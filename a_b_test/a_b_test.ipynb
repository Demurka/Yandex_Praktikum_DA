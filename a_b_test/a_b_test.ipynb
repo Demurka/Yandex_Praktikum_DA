{
 "cells": [
  {
   "cell_type": "markdown",
   "id": "50c389eb-2f66-480f-afd9-467cc7202411",
   "metadata": {},
   "source": [
    "# A/B-тестирование. Исследование и приоритезация гипотез для увеличения выручки интернет-магазина"
   ]
  },
  {
   "cell_type": "markdown",
   "id": "8751f4e3-0b28-4347-b2e7-fcf5e7c636cb",
   "metadata": {},
   "source": [
    "Вместе с отделом маркетинга подготовлен список гипотез для увеличения выручки. Необходимо приоритизировать гипотезы и проанализировать результаты A/B-теста."
   ]
  },
  {
   "cell_type": "markdown",
   "id": "8d85c1c6-4fdf-4e6a-8498-4c519f11b10a",
   "metadata": {},
   "source": [
    "Необходимо будет выполнить следующее:\n",
    "\n",
    "- применить фреймворки `ICE` и `RICE` для приоритизации гипотез;\n",
    "- проанализировать A/B-тест и построить графические зависимости для основных измеряемых и оцениваемых характеристик;\n",
    "- принять решение по результатам теста и объяснить его."
   ]
  },
  {
   "cell_type": "markdown",
   "id": "8f688853-a12b-4231-866c-6a2f0ab5fd02",
   "metadata": {},
   "source": [
    "### Описание данных:"
   ]
  },
  {
   "cell_type": "markdown",
   "id": "bb8ae86c-d308-4cde-8527-96f4623f9364",
   "metadata": {},
   "source": [
    "В распоряжении имеются три датасета:\n",
    "\n",
    "- **`hypothesis.csv`** содержит информацию о гипотезах;\n",
    "- **`orders.csv`** содержит информацию о заказах;\n",
    "- **`visitors.csv`** содержит информацию о посетителях."
   ]
  },
  {
   "cell_type": "markdown",
   "id": "def8a414-22fa-4365-8324-56057aae0238",
   "metadata": {},
   "source": [
    "Структура **`hypothesis.csv`**:\n",
    "\n",
    "- `Hypothesis` – краткое описание гипотезы;\n",
    "- `Reach` – охват пользователей по 10-балльной шкале;\n",
    "- `Impact` – влияние на пользователей по 10-балльной шкале;\n",
    "- `Confidence` – уверенность в гипотезе по 10-балльной шкале;\n",
    "- `Efforts` – затраты ресурсов на проверку гипотезы по 10-балльной шкале. Чем больше значение `Efforts`, тем дороже проверка гипотезы."
   ]
  },
  {
   "cell_type": "markdown",
   "id": "4d7ac360-c054-4976-8eb6-24512c994f45",
   "metadata": {},
   "source": [
    "Структура **`orders.csv`**:\n",
    "\n",
    "- `transactionId` – идентификатор заказа;\n",
    "- `visitorId` – идентификатор пользователя, совершившего заказ;\n",
    "- `date` – дата, когда был совершен заказ;\n",
    "- `revenue` – выручка заказа;\n",
    "- `group` – группа A/B-теста, в которую попал заказ."
   ]
  },
  {
   "cell_type": "markdown",
   "id": "6d42b908-90e2-4fc3-ade7-98077b07d19a",
   "metadata": {},
   "source": [
    "Структура **`visitors.csv`**:\n",
    "\n",
    "- `date` – дата;\n",
    "- `group` – группа A/B-теста;\n",
    "- `visitors` – количество пользователей в указанную дату в указанной группе A/B-теста."
   ]
  },
  {
   "cell_type": "markdown",
   "id": "eea1c7b7-fbe6-429e-b2da-c63e01ab0754",
   "metadata": {},
   "source": [
    "### 1. Открытие файла и изучение общей информации\n",
    "\n",
    "---"
   ]
  },
  {
   "cell_type": "markdown",
   "id": "4a9d5991-a5a2-4839-b73d-f57306ff3de7",
   "metadata": {},
   "source": [
    "#### 1.1 Импорт необходимых библиотек"
   ]
  },
  {
   "cell_type": "markdown",
   "id": "1ebcd3b2-81aa-4d3a-8f46-f1da10b4a448",
   "metadata": {},
   "source": [
    "Для начала импортируем все необходимые библиотеки для работы с данными и построением графиков."
   ]
  },
  {
   "cell_type": "code",
   "execution_count": 1,
   "id": "13e0f280-eb26-4156-9ec0-5b69afc04ef6",
   "metadata": {
    "tags": []
   },
   "outputs": [],
   "source": [
    "import pandas as pd\n",
    "import numpy as np\n",
    "import scipy.stats as stats\n",
    "\n",
    "import matplotlib.pyplot as plt"
   ]
  },
  {
   "cell_type": "markdown",
   "id": "513410eb-5e6c-4de5-bcb9-aa12b368f4ce",
   "metadata": {},
   "source": [
    "#### 1.2 Изучение общей информации о датафрейме"
   ]
  },
  {
   "cell_type": "markdown",
   "id": "c0714e1c-a82e-4606-b8e0-859af931d823",
   "metadata": {},
   "source": [
    "Считаем данные из файлов и запишем их в переменные `hypothesis`, `orders` и `visitors`.\n",
    "\n",
    "Пути к файлам:\n",
    "\n",
    "- `/datasets/hypothesis.csv`\n",
    "- `/datasets/orders.csv`\n",
    "- `/datasets/visitors.csv`"
   ]
  },
  {
   "cell_type": "code",
   "execution_count": 2,
   "id": "f4db36de-f980-4167-8c6c-a37f23e4748d",
   "metadata": {
    "tags": []
   },
   "outputs": [],
   "source": [
    "hypothesis = pd.read_csv('datasets/hypothesis.csv')\n",
    "orders = pd.read_csv('datasets/orders.csv')\n",
    "visitors = pd.read_csv('datasets/visitors.csv')"
   ]
  },
  {
   "cell_type": "markdown",
   "id": "5cae3039-234d-4b0d-935d-95ffacce39cc",
   "metadata": {},
   "source": [
    "Выведем первые 5 строк для каждого датасета."
   ]
  },
  {
   "cell_type": "code",
   "execution_count": 3,
   "id": "d8e240ec-92ec-4766-b59f-2b9077ba85e9",
   "metadata": {
    "tags": []
   },
   "outputs": [
    {
     "data": {
      "text/html": [
       "<div>\n",
       "<style scoped>\n",
       "    .dataframe tbody tr th:only-of-type {\n",
       "        vertical-align: middle;\n",
       "    }\n",
       "\n",
       "    .dataframe tbody tr th {\n",
       "        vertical-align: top;\n",
       "    }\n",
       "\n",
       "    .dataframe thead th {\n",
       "        text-align: right;\n",
       "    }\n",
       "</style>\n",
       "<table border=\"1\" class=\"dataframe\">\n",
       "  <thead>\n",
       "    <tr style=\"text-align: right;\">\n",
       "      <th></th>\n",
       "      <th>Hypothesis</th>\n",
       "      <th>Reach</th>\n",
       "      <th>Impact</th>\n",
       "      <th>Confidence</th>\n",
       "      <th>Efforts</th>\n",
       "    </tr>\n",
       "  </thead>\n",
       "  <tbody>\n",
       "    <tr>\n",
       "      <th>0</th>\n",
       "      <td>Добавить два новых канала привлечения трафика,...</td>\n",
       "      <td>3</td>\n",
       "      <td>10</td>\n",
       "      <td>8</td>\n",
       "      <td>6</td>\n",
       "    </tr>\n",
       "    <tr>\n",
       "      <th>1</th>\n",
       "      <td>Запустить собственную службу доставки, что сок...</td>\n",
       "      <td>2</td>\n",
       "      <td>5</td>\n",
       "      <td>4</td>\n",
       "      <td>10</td>\n",
       "    </tr>\n",
       "    <tr>\n",
       "      <th>2</th>\n",
       "      <td>Добавить блоки рекомендаций товаров на сайт ин...</td>\n",
       "      <td>8</td>\n",
       "      <td>3</td>\n",
       "      <td>7</td>\n",
       "      <td>3</td>\n",
       "    </tr>\n",
       "    <tr>\n",
       "      <th>3</th>\n",
       "      <td>Изменить структура категорий, что увеличит кон...</td>\n",
       "      <td>8</td>\n",
       "      <td>3</td>\n",
       "      <td>3</td>\n",
       "      <td>8</td>\n",
       "    </tr>\n",
       "    <tr>\n",
       "      <th>4</th>\n",
       "      <td>Изменить цвет фона главной страницы, чтобы уве...</td>\n",
       "      <td>3</td>\n",
       "      <td>1</td>\n",
       "      <td>1</td>\n",
       "      <td>1</td>\n",
       "    </tr>\n",
       "  </tbody>\n",
       "</table>\n",
       "</div>"
      ],
      "text/plain": [
       "                                          Hypothesis  Reach  Impact   \n",
       "0  Добавить два новых канала привлечения трафика,...      3      10  \\\n",
       "1  Запустить собственную службу доставки, что сок...      2       5   \n",
       "2  Добавить блоки рекомендаций товаров на сайт ин...      8       3   \n",
       "3  Изменить структура категорий, что увеличит кон...      8       3   \n",
       "4  Изменить цвет фона главной страницы, чтобы уве...      3       1   \n",
       "\n",
       "   Confidence  Efforts  \n",
       "0           8        6  \n",
       "1           4       10  \n",
       "2           7        3  \n",
       "3           3        8  \n",
       "4           1        1  "
      ]
     },
     "metadata": {},
     "output_type": "display_data"
    },
    {
     "data": {
      "text/html": [
       "<div>\n",
       "<style scoped>\n",
       "    .dataframe tbody tr th:only-of-type {\n",
       "        vertical-align: middle;\n",
       "    }\n",
       "\n",
       "    .dataframe tbody tr th {\n",
       "        vertical-align: top;\n",
       "    }\n",
       "\n",
       "    .dataframe thead th {\n",
       "        text-align: right;\n",
       "    }\n",
       "</style>\n",
       "<table border=\"1\" class=\"dataframe\">\n",
       "  <thead>\n",
       "    <tr style=\"text-align: right;\">\n",
       "      <th></th>\n",
       "      <th>transactionId</th>\n",
       "      <th>visitorId</th>\n",
       "      <th>date</th>\n",
       "      <th>revenue</th>\n",
       "      <th>group</th>\n",
       "    </tr>\n",
       "  </thead>\n",
       "  <tbody>\n",
       "    <tr>\n",
       "      <th>0</th>\n",
       "      <td>3667963787</td>\n",
       "      <td>3312258926</td>\n",
       "      <td>2019-08-15</td>\n",
       "      <td>1650</td>\n",
       "      <td>B</td>\n",
       "    </tr>\n",
       "    <tr>\n",
       "      <th>1</th>\n",
       "      <td>2804400009</td>\n",
       "      <td>3642806036</td>\n",
       "      <td>2019-08-15</td>\n",
       "      <td>730</td>\n",
       "      <td>B</td>\n",
       "    </tr>\n",
       "    <tr>\n",
       "      <th>2</th>\n",
       "      <td>2961555356</td>\n",
       "      <td>4069496402</td>\n",
       "      <td>2019-08-15</td>\n",
       "      <td>400</td>\n",
       "      <td>A</td>\n",
       "    </tr>\n",
       "    <tr>\n",
       "      <th>3</th>\n",
       "      <td>3797467345</td>\n",
       "      <td>1196621759</td>\n",
       "      <td>2019-08-15</td>\n",
       "      <td>9759</td>\n",
       "      <td>B</td>\n",
       "    </tr>\n",
       "    <tr>\n",
       "      <th>4</th>\n",
       "      <td>2282983706</td>\n",
       "      <td>2322279887</td>\n",
       "      <td>2019-08-15</td>\n",
       "      <td>2308</td>\n",
       "      <td>B</td>\n",
       "    </tr>\n",
       "  </tbody>\n",
       "</table>\n",
       "</div>"
      ],
      "text/plain": [
       "   transactionId   visitorId        date  revenue group\n",
       "0     3667963787  3312258926  2019-08-15     1650     B\n",
       "1     2804400009  3642806036  2019-08-15      730     B\n",
       "2     2961555356  4069496402  2019-08-15      400     A\n",
       "3     3797467345  1196621759  2019-08-15     9759     B\n",
       "4     2282983706  2322279887  2019-08-15     2308     B"
      ]
     },
     "metadata": {},
     "output_type": "display_data"
    },
    {
     "data": {
      "text/html": [
       "<div>\n",
       "<style scoped>\n",
       "    .dataframe tbody tr th:only-of-type {\n",
       "        vertical-align: middle;\n",
       "    }\n",
       "\n",
       "    .dataframe tbody tr th {\n",
       "        vertical-align: top;\n",
       "    }\n",
       "\n",
       "    .dataframe thead th {\n",
       "        text-align: right;\n",
       "    }\n",
       "</style>\n",
       "<table border=\"1\" class=\"dataframe\">\n",
       "  <thead>\n",
       "    <tr style=\"text-align: right;\">\n",
       "      <th></th>\n",
       "      <th>date</th>\n",
       "      <th>group</th>\n",
       "      <th>visitors</th>\n",
       "    </tr>\n",
       "  </thead>\n",
       "  <tbody>\n",
       "    <tr>\n",
       "      <th>0</th>\n",
       "      <td>2019-08-01</td>\n",
       "      <td>A</td>\n",
       "      <td>719</td>\n",
       "    </tr>\n",
       "    <tr>\n",
       "      <th>1</th>\n",
       "      <td>2019-08-02</td>\n",
       "      <td>A</td>\n",
       "      <td>619</td>\n",
       "    </tr>\n",
       "    <tr>\n",
       "      <th>2</th>\n",
       "      <td>2019-08-03</td>\n",
       "      <td>A</td>\n",
       "      <td>507</td>\n",
       "    </tr>\n",
       "    <tr>\n",
       "      <th>3</th>\n",
       "      <td>2019-08-04</td>\n",
       "      <td>A</td>\n",
       "      <td>717</td>\n",
       "    </tr>\n",
       "    <tr>\n",
       "      <th>4</th>\n",
       "      <td>2019-08-05</td>\n",
       "      <td>A</td>\n",
       "      <td>756</td>\n",
       "    </tr>\n",
       "  </tbody>\n",
       "</table>\n",
       "</div>"
      ],
      "text/plain": [
       "         date group  visitors\n",
       "0  2019-08-01     A       719\n",
       "1  2019-08-02     A       619\n",
       "2  2019-08-03     A       507\n",
       "3  2019-08-04     A       717\n",
       "4  2019-08-05     A       756"
      ]
     },
     "execution_count": 3,
     "metadata": {},
     "output_type": "execute_result"
    }
   ],
   "source": [
    "pd.set_option('display.max_columns', None)\n",
    "\n",
    "display(hypothesis.head(5))\n",
    "display(orders.head(5))\n",
    "visitors.head(5)"
   ]
  },
  {
   "cell_type": "markdown",
   "id": "fbf0918a-1e8e-4cbd-a401-5ed345dc56ae",
   "metadata": {},
   "source": [
    "Выведем основную информацию о каждом датафрейме при помощи метода `info()`."
   ]
  },
  {
   "cell_type": "code",
   "execution_count": 4,
   "id": "f555ac59-50f9-4a0e-9142-8c3182fe8e50",
   "metadata": {
    "tags": []
   },
   "outputs": [
    {
     "name": "stdout",
     "output_type": "stream",
     "text": [
      "<class 'pandas.core.frame.DataFrame'>\n",
      "RangeIndex: 9 entries, 0 to 8\n",
      "Data columns (total 5 columns):\n",
      " #   Column      Non-Null Count  Dtype \n",
      "---  ------      --------------  ----- \n",
      " 0   Hypothesis  9 non-null      object\n",
      " 1   Reach       9 non-null      int64 \n",
      " 2   Impact      9 non-null      int64 \n",
      " 3   Confidence  9 non-null      int64 \n",
      " 4   Efforts     9 non-null      int64 \n",
      "dtypes: int64(4), object(1)\n",
      "memory usage: 488.0+ bytes\n"
     ]
    },
    {
     "data": {
      "text/plain": [
       "None"
      ]
     },
     "metadata": {},
     "output_type": "display_data"
    },
    {
     "name": "stdout",
     "output_type": "stream",
     "text": [
      "<class 'pandas.core.frame.DataFrame'>\n",
      "RangeIndex: 1197 entries, 0 to 1196\n",
      "Data columns (total 5 columns):\n",
      " #   Column         Non-Null Count  Dtype \n",
      "---  ------         --------------  ----- \n",
      " 0   transactionId  1197 non-null   int64 \n",
      " 1   visitorId      1197 non-null   int64 \n",
      " 2   date           1197 non-null   object\n",
      " 3   revenue        1197 non-null   int64 \n",
      " 4   group          1197 non-null   object\n",
      "dtypes: int64(3), object(2)\n",
      "memory usage: 46.9+ KB\n"
     ]
    },
    {
     "data": {
      "text/plain": [
       "None"
      ]
     },
     "metadata": {},
     "output_type": "display_data"
    },
    {
     "name": "stdout",
     "output_type": "stream",
     "text": [
      "<class 'pandas.core.frame.DataFrame'>\n",
      "RangeIndex: 62 entries, 0 to 61\n",
      "Data columns (total 3 columns):\n",
      " #   Column    Non-Null Count  Dtype \n",
      "---  ------    --------------  ----- \n",
      " 0   date      62 non-null     object\n",
      " 1   group     62 non-null     object\n",
      " 2   visitors  62 non-null     int64 \n",
      "dtypes: int64(1), object(2)\n",
      "memory usage: 1.6+ KB\n"
     ]
    }
   ],
   "source": [
    "display(hypothesis.info())\n",
    "display(orders.info())\n",
    "visitors.info()"
   ]
  },
  {
   "cell_type": "markdown",
   "id": "5e95be40-7f5f-4ae8-8aab-c35255f24417",
   "metadata": {},
   "source": [
    "Заметим, что в приведенных датафреймах полностью отсутствуют пропуски. Столбцы `date` из **`orders`** и `date` из **`visitors`** имеют тип **object**. Также для более удобной работы с датафреймами в дальнейшем приведем все названия столбцов к нижнему регистру."
   ]
  },
  {
   "cell_type": "markdown",
   "id": "4f59083d-b8d1-4783-bcf7-3c534ef762b1",
   "metadata": {},
   "source": [
    "**Вывод:**\n",
    "\n",
    "Первоначально изучив общую информацию об исходных датафреймах, далее можно переходить к их предобработке."
   ]
  },
  {
   "cell_type": "markdown",
   "id": "6bcad5cf-eb17-4dd3-a8d7-515db572f0da",
   "metadata": {},
   "source": [
    "### 2. Предобработка данных\n",
    "\n",
    "---"
   ]
  },
  {
   "cell_type": "markdown",
   "id": "6eae200f-9ee5-4e1a-b7a5-c03847ad7d4f",
   "metadata": {},
   "source": [
    "#### 2.1 Преобразование названий столбцов"
   ]
  },
  {
   "cell_type": "markdown",
   "id": "2d77a389-1cf3-4a06-b6ed-005191d66cc7",
   "metadata": {},
   "source": [
    "Приведем названия всех столбцов к нижнему регистру для удобства работы с датафреймом в дальнейшем."
   ]
  },
  {
   "cell_type": "code",
   "execution_count": 5,
   "id": "5fc48a5d-dd68-4530-a99f-7b83a0d04db3",
   "metadata": {
    "tags": []
   },
   "outputs": [],
   "source": [
    "hypothesis.columns = hypothesis.columns.str.lower()\n",
    "\n",
    "orders = orders.rename(columns={'transactionId' : 'transaction_id',\n",
    "                                'visitorId' : 'visitor_id'})"
   ]
  },
  {
   "cell_type": "markdown",
   "id": "60e2fc90-ae63-45bf-862a-3ca2d486fa70",
   "metadata": {},
   "source": [
    "Проверим, что названия всех столбцов написаны в одном, удобном стиле."
   ]
  },
  {
   "cell_type": "code",
   "execution_count": 6,
   "id": "57597261-d189-4349-bf05-ee3f785e259a",
   "metadata": {
    "tags": []
   },
   "outputs": [
    {
     "data": {
      "text/plain": [
       "Index(['hypothesis', 'reach', 'impact', 'confidence', 'efforts'], dtype='object')"
      ]
     },
     "metadata": {},
     "output_type": "display_data"
    },
    {
     "data": {
      "text/plain": [
       "Index(['transaction_id', 'visitor_id', 'date', 'revenue', 'group'], dtype='object')"
      ]
     },
     "metadata": {},
     "output_type": "display_data"
    },
    {
     "data": {
      "text/plain": [
       "Index(['date', 'group', 'visitors'], dtype='object')"
      ]
     },
     "execution_count": 6,
     "metadata": {},
     "output_type": "execute_result"
    }
   ],
   "source": [
    "display(hypothesis.columns)\n",
    "display(orders.columns)\n",
    "visitors.columns"
   ]
  },
  {
   "cell_type": "markdown",
   "id": "3b618a80-5ddb-4d1b-a862-130947f94908",
   "metadata": {},
   "source": [
    "Далее можно приступить к дальнейшей предобработке датафрейма."
   ]
  },
  {
   "cell_type": "markdown",
   "id": "f97c34e6-636c-47e5-b64f-23a2d47ae65c",
   "metadata": {},
   "source": [
    "#### 2.2 Изменение типов данных"
   ]
  },
  {
   "cell_type": "markdown",
   "id": "fa51355e-912f-4966-b4ba-bdf83ca4d79a",
   "metadata": {},
   "source": [
    "Преобразуем некоторые столбцы в нужные типы. Как было выяснено ранее, два столбца с датами (`date` из **`orders`**, `date` из **`visitors`**) имеют тип **object**. Преобразуем их в тип **datetime64**."
   ]
  },
  {
   "cell_type": "code",
   "execution_count": 7,
   "id": "288e0738-b11e-486c-863a-024843eb366f",
   "metadata": {
    "tags": []
   },
   "outputs": [],
   "source": [
    "orders['date'] = pd.to_datetime(orders['date'])\n",
    "visitors['date'] = pd.to_datetime(visitors['date'])"
   ]
  },
  {
   "cell_type": "markdown",
   "id": "8ba88bc6-f824-4489-934f-29955b455985",
   "metadata": {},
   "source": [
    "Проверим, что типы данных поменялись."
   ]
  },
  {
   "cell_type": "code",
   "execution_count": 8,
   "id": "752fddb3-b91c-4978-a59b-f771a78c5ab1",
   "metadata": {
    "tags": []
   },
   "outputs": [
    {
     "name": "stdout",
     "output_type": "stream",
     "text": [
      "<class 'pandas.core.frame.DataFrame'>\n",
      "RangeIndex: 1197 entries, 0 to 1196\n",
      "Data columns (total 5 columns):\n",
      " #   Column          Non-Null Count  Dtype         \n",
      "---  ------          --------------  -----         \n",
      " 0   transaction_id  1197 non-null   int64         \n",
      " 1   visitor_id      1197 non-null   int64         \n",
      " 2   date            1197 non-null   datetime64[ns]\n",
      " 3   revenue         1197 non-null   int64         \n",
      " 4   group           1197 non-null   object        \n",
      "dtypes: datetime64[ns](1), int64(3), object(1)\n",
      "memory usage: 46.9+ KB\n"
     ]
    },
    {
     "data": {
      "text/plain": [
       "None"
      ]
     },
     "metadata": {},
     "output_type": "display_data"
    },
    {
     "name": "stdout",
     "output_type": "stream",
     "text": [
      "<class 'pandas.core.frame.DataFrame'>\n",
      "RangeIndex: 62 entries, 0 to 61\n",
      "Data columns (total 3 columns):\n",
      " #   Column    Non-Null Count  Dtype         \n",
      "---  ------    --------------  -----         \n",
      " 0   date      62 non-null     datetime64[ns]\n",
      " 1   group     62 non-null     object        \n",
      " 2   visitors  62 non-null     int64         \n",
      "dtypes: datetime64[ns](1), int64(1), object(1)\n",
      "memory usage: 1.6+ KB\n"
     ]
    }
   ],
   "source": [
    "display(orders.info())\n",
    "visitors.info()"
   ]
  },
  {
   "cell_type": "markdown",
   "id": "1a831714-96a6-4d4d-9f85-f6d7bb558aba",
   "metadata": {},
   "source": [
    "Заметим, что типы данных для выбранных столбцов поменялись на необходимые."
   ]
  },
  {
   "cell_type": "markdown",
   "id": "d25527bf-36b4-4b35-9be4-30a320dfde9b",
   "metadata": {},
   "source": [
    "#### 2.3 Обработка дубликатов"
   ]
  },
  {
   "cell_type": "markdown",
   "id": "fc97f650-4a02-4b39-a77d-e96d30d83b8b",
   "metadata": {},
   "source": [
    "##### 2.3.1 Проверка на наличие явных дубликатов"
   ]
  },
  {
   "cell_type": "markdown",
   "id": "2ba86723-d294-475b-881a-b7bc84edfcf7",
   "metadata": {},
   "source": [
    "Проверим исходные датафреймы на наличие явных строк-дубликатов."
   ]
  },
  {
   "cell_type": "code",
   "execution_count": 9,
   "id": "8fce6346-2e90-4db7-9c58-8907556e2ab8",
   "metadata": {
    "tags": []
   },
   "outputs": [
    {
     "data": {
      "text/plain": [
       "0"
      ]
     },
     "metadata": {},
     "output_type": "display_data"
    },
    {
     "data": {
      "text/plain": [
       "0"
      ]
     },
     "metadata": {},
     "output_type": "display_data"
    },
    {
     "data": {
      "text/plain": [
       "0"
      ]
     },
     "execution_count": 9,
     "metadata": {},
     "output_type": "execute_result"
    }
   ],
   "source": [
    "display(hypothesis.duplicated().sum())\n",
    "display(orders.duplicated().sum())\n",
    "visitors.duplicated().sum()"
   ]
  },
  {
   "cell_type": "markdown",
   "id": "c1a51938-01eb-4ece-a587-3b04c31160ad",
   "metadata": {},
   "source": [
    "Нетрудно заметить, что явных дубликатов в исходных выборках нет."
   ]
  },
  {
   "cell_type": "markdown",
   "id": "50fcb883-17d1-4432-a284-7d8f47186c8a",
   "metadata": {},
   "source": [
    "##### 2.3.1 Проверка на наличие неявных дубликатов"
   ]
  },
  {
   "cell_type": "markdown",
   "id": "68fdba1d-6afa-450e-8c8d-b37856d5381a",
   "metadata": {},
   "source": [
    "Также проверим датафреймы на наличие явных дубликатов. Рассмотрим уникальные значения столбцов с типом **object**."
   ]
  },
  {
   "cell_type": "markdown",
   "id": "573193de-f817-493f-b191-af51addd1285",
   "metadata": {},
   "source": [
    "Начнем с датафрейма `hypothesis`."
   ]
  },
  {
   "cell_type": "code",
   "execution_count": 10,
   "id": "0ae22d5e-1b2c-40ab-9488-aaae848351bd",
   "metadata": {
    "tags": []
   },
   "outputs": [
    {
     "data": {
      "text/plain": [
       "array(['Добавить блоки рекомендаций товаров на сайт интернет магазина, чтобы повысить конверсию и средний чек заказа',\n",
       "       'Добавить два новых канала привлечения трафика, что позволит привлекать на 30% больше пользователей',\n",
       "       'Добавить страницу отзывов клиентов о магазине, что позволит увеличить количество заказов',\n",
       "       'Добавить форму подписки на все основные страницы, чтобы собрать базу клиентов для email-рассылок',\n",
       "       'Запустить акцию, дающую скидку на товар в день рождения',\n",
       "       'Запустить собственную службу доставки, что сократит срок доставки заказов',\n",
       "       'Изменить структура категорий, что увеличит конверсию, т.к. пользователи быстрее найдут нужный товар',\n",
       "       'Изменить цвет фона главной страницы, чтобы увеличить вовлеченность пользователей',\n",
       "       'Показать на главной странице баннеры с актуальными акциями и распродажами, чтобы увеличить конверсию'],\n",
       "      dtype=object)"
      ]
     },
     "execution_count": 10,
     "metadata": {},
     "output_type": "execute_result"
    }
   ],
   "source": [
    "hypothesis['hypothesis'].sort_values().unique()"
   ]
  },
  {
   "cell_type": "markdown",
   "id": "d5f60061-189b-48e5-b86c-4900543f6dd9",
   "metadata": {},
   "source": [
    "Заметим, что значения в данном столбце не повторяются."
   ]
  },
  {
   "cell_type": "markdown",
   "id": "5d103937-0fb1-4668-873f-ce9ff154989f",
   "metadata": {},
   "source": [
    "Рассмотрим датафрейм `orders`."
   ]
  },
  {
   "cell_type": "code",
   "execution_count": 11,
   "id": "c5b683b1-39a2-4da0-9228-99a7345289b4",
   "metadata": {
    "tags": []
   },
   "outputs": [
    {
     "data": {
      "text/plain": [
       "array(['A', 'B'], dtype=object)"
      ]
     },
     "execution_count": 11,
     "metadata": {},
     "output_type": "execute_result"
    }
   ],
   "source": [
    "orders['group'].sort_values().unique()"
   ]
  },
  {
   "cell_type": "markdown",
   "id": "a375aac0-94c6-47d1-8da5-84b8a0cb3829",
   "metadata": {},
   "source": [
    "И в этом столбце также нет  повторяющихся значений."
   ]
  },
  {
   "cell_type": "markdown",
   "id": "c081e6b4-5c17-499e-b98a-9fc2d7b54b09",
   "metadata": {},
   "source": [
    "Рассмотрим датафрейм `visitors`."
   ]
  },
  {
   "cell_type": "code",
   "execution_count": 12,
   "id": "fa5734f2-3816-4e7b-8a24-d61f542c33f2",
   "metadata": {
    "tags": []
   },
   "outputs": [
    {
     "data": {
      "text/plain": [
       "array(['A', 'B'], dtype=object)"
      ]
     },
     "execution_count": 12,
     "metadata": {},
     "output_type": "execute_result"
    }
   ],
   "source": [
    "visitors['group'].sort_values().unique()"
   ]
  },
  {
   "cell_type": "markdown",
   "id": "18940be4-139d-419f-a648-4843fb252867",
   "metadata": {},
   "source": [
    "Заметим, что значения в данном столбце не повторяются."
   ]
  },
  {
   "cell_type": "markdown",
   "id": "087b0d1b-7865-42f4-a407-43b8bba8d067",
   "metadata": {},
   "source": [
    "Проверка на неявные дубликаты показала, что в исходных датасетах их нет."
   ]
  },
  {
   "cell_type": "markdown",
   "id": "9e1cbde8-0611-4c26-8fa2-961a18ccd83b",
   "metadata": {},
   "source": [
    "Дополнительно выполним проверку на попадение пользователей в обе группы."
   ]
  },
  {
   "cell_type": "code",
   "execution_count": 13,
   "id": "99362ddc-6093-4ac9-b9e1-530127363c0e",
   "metadata": {
    "tags": []
   },
   "outputs": [
    {
     "data": {
      "text/plain": [
       "group    58\n",
       "dtype: int64"
      ]
     },
     "execution_count": 13,
     "metadata": {},
     "output_type": "execute_result"
    }
   ],
   "source": [
    "orders.groupby('visitor_id').agg({'group' : 'nunique'}).query('group > 1').count()"
   ]
  },
  {
   "cell_type": "markdown",
   "id": "9994257c-6069-4e9f-ba49-fd4f84a597d2",
   "metadata": {},
   "source": [
    "Заметим, что 58 пользователей в итоге оказались в обеих группах."
   ]
  },
  {
   "cell_type": "markdown",
   "id": "576ee03e-7ea2-400c-a204-2b9787ed6068",
   "metadata": {},
   "source": [
    "**Вывод:**\n",
    "\n",
    "Преобразовав названия столбцов, изменив, где необходимо, тип данных, проверив датасеты на явные и неявные дубликаты, далее можно перейти к сортировке гипотез по приоритизации при помощи фреймворков `ICE` и `RICE`."
   ]
  },
  {
   "cell_type": "markdown",
   "id": "8c6e15cf-5638-4666-a11a-9fb767bdb069",
   "metadata": {},
   "source": [
    "### 3. Приоритизация гипотез с помощью фреймворков ICE и RICE\n",
    "\n",
    "---"
   ]
  },
  {
   "cell_type": "markdown",
   "id": "6d329429-82cb-4e8e-8155-e3466cc3ec50",
   "metadata": {},
   "source": [
    "Для того, чтобы максимизировать ожидаемое улучшение ключевых метрик бизнеса, а в данном конкретном случае поспособствовать увеличению выручки, сформулированные гипотезы приоритизируют. Для этого используют различные методы. В нашем случае воспользуемся фреймворками `ICE` и `RICE`."
   ]
  },
  {
   "cell_type": "markdown",
   "id": "3b418b68-0b26-4e74-b362-10f228ad52df",
   "metadata": {},
   "source": [
    "#### 3.1 Приоритизация гипотез при помощи метода ICE"
   ]
  },
  {
   "cell_type": "markdown",
   "id": "3ed55d82-164c-42c5-9a2e-3e3e310f9644",
   "metadata": {},
   "source": [
    "Метод `ICE` (от англ. *impact, confidence, effort/ease*; влияние, уверенность, усилия/простота) — один из самых популярных способов приоритизации гипотез. Его значение вычисляется по формуле:\n",
    "\n",
    "$$ICE = Impact \\cdot Confidence \\cdot Ease,$$\n",
    "\n",
    "или\n",
    "\n",
    "$$ICE = \\dfrac {Impact \\cdot Confidence}{Efforts}.$$"
   ]
  },
  {
   "cell_type": "markdown",
   "id": "45026722-14ec-474d-b6ff-90bafb5edd53",
   "metadata": {},
   "source": [
    "Посчитаем параметр `ICE`, используя датафрейм **`hypothesis`**, и выведем гипотезы в порядке убывания по данному показателю."
   ]
  },
  {
   "cell_type": "code",
   "execution_count": 14,
   "id": "488e1ef3-4329-45f2-a4a6-9294f82a2fcf",
   "metadata": {
    "tags": []
   },
   "outputs": [
    {
     "data": {
      "text/html": [
       "<div>\n",
       "<style scoped>\n",
       "    .dataframe tbody tr th:only-of-type {\n",
       "        vertical-align: middle;\n",
       "    }\n",
       "\n",
       "    .dataframe tbody tr th {\n",
       "        vertical-align: top;\n",
       "    }\n",
       "\n",
       "    .dataframe thead th {\n",
       "        text-align: right;\n",
       "    }\n",
       "</style>\n",
       "<table border=\"1\" class=\"dataframe\">\n",
       "  <thead>\n",
       "    <tr style=\"text-align: right;\">\n",
       "      <th></th>\n",
       "      <th>hypothesis</th>\n",
       "      <th>ICE</th>\n",
       "    </tr>\n",
       "  </thead>\n",
       "  <tbody>\n",
       "    <tr>\n",
       "      <th>8</th>\n",
       "      <td>Запустить акцию, дающую скидку на товар в день рождения</td>\n",
       "      <td>16.20</td>\n",
       "    </tr>\n",
       "    <tr>\n",
       "      <th>0</th>\n",
       "      <td>Добавить два новых канала привлечения трафика, что позволит привлекать на 30% больше пользователей</td>\n",
       "      <td>13.33</td>\n",
       "    </tr>\n",
       "    <tr>\n",
       "      <th>7</th>\n",
       "      <td>Добавить форму подписки на все основные страницы, чтобы собрать базу клиентов для email-рассылок</td>\n",
       "      <td>11.20</td>\n",
       "    </tr>\n",
       "    <tr>\n",
       "      <th>6</th>\n",
       "      <td>Показать на главной странице баннеры с актуальными акциями и распродажами, чтобы увеличить конверсию</td>\n",
       "      <td>8.00</td>\n",
       "    </tr>\n",
       "    <tr>\n",
       "      <th>2</th>\n",
       "      <td>Добавить блоки рекомендаций товаров на сайт интернет магазина, чтобы повысить конверсию и средний чек заказа</td>\n",
       "      <td>7.00</td>\n",
       "    </tr>\n",
       "    <tr>\n",
       "      <th>1</th>\n",
       "      <td>Запустить собственную службу доставки, что сократит срок доставки заказов</td>\n",
       "      <td>2.00</td>\n",
       "    </tr>\n",
       "    <tr>\n",
       "      <th>5</th>\n",
       "      <td>Добавить страницу отзывов клиентов о магазине, что позволит увеличить количество заказов</td>\n",
       "      <td>1.33</td>\n",
       "    </tr>\n",
       "    <tr>\n",
       "      <th>3</th>\n",
       "      <td>Изменить структура категорий, что увеличит конверсию, т.к. пользователи быстрее найдут нужный товар</td>\n",
       "      <td>1.12</td>\n",
       "    </tr>\n",
       "    <tr>\n",
       "      <th>4</th>\n",
       "      <td>Изменить цвет фона главной страницы, чтобы увеличить вовлеченность пользователей</td>\n",
       "      <td>1.00</td>\n",
       "    </tr>\n",
       "  </tbody>\n",
       "</table>\n",
       "</div>"
      ],
      "text/plain": [
       "                                                                                                     hypothesis   \n",
       "8                                                       Запустить акцию, дающую скидку на товар в день рождения  \\\n",
       "0            Добавить два новых канала привлечения трафика, что позволит привлекать на 30% больше пользователей   \n",
       "7              Добавить форму подписки на все основные страницы, чтобы собрать базу клиентов для email-рассылок   \n",
       "6          Показать на главной странице баннеры с актуальными акциями и распродажами, чтобы увеличить конверсию   \n",
       "2  Добавить блоки рекомендаций товаров на сайт интернет магазина, чтобы повысить конверсию и средний чек заказа   \n",
       "1                                     Запустить собственную службу доставки, что сократит срок доставки заказов   \n",
       "5                      Добавить страницу отзывов клиентов о магазине, что позволит увеличить количество заказов   \n",
       "3           Изменить структура категорий, что увеличит конверсию, т.к. пользователи быстрее найдут нужный товар   \n",
       "4                              Изменить цвет фона главной страницы, чтобы увеличить вовлеченность пользователей   \n",
       "\n",
       "     ICE  \n",
       "8  16.20  \n",
       "0  13.33  \n",
       "7  11.20  \n",
       "6   8.00  \n",
       "2   7.00  \n",
       "1   2.00  \n",
       "5   1.33  \n",
       "3   1.12  \n",
       "4   1.00  "
      ]
     },
     "execution_count": 14,
     "metadata": {},
     "output_type": "execute_result"
    }
   ],
   "source": [
    "hypothesis['ICE'] = ((hypothesis['impact'] * hypothesis['confidence']) / hypothesis['efforts']).round(2)\n",
    "\n",
    "pd.set_option('max_colwidth', 200)\n",
    "\n",
    "hypothesis[['hypothesis', 'ICE']].sort_values('ICE', ascending=False)"
   ]
  },
  {
   "cell_type": "markdown",
   "id": "db001a8a-d999-4266-b573-144875645127",
   "metadata": {},
   "source": [
    "Заметим, что наиболее перспективными явлюятся гипотезы под номерами **8**, **0**, **7**, **6** и **2**."
   ]
  },
  {
   "cell_type": "markdown",
   "id": "c778a27f-742c-4120-a541-1655e701d948",
   "metadata": {},
   "source": [
    "#### 3.2 Приоритизация гипотез при помощи метода RICE"
   ]
  },
  {
   "cell_type": "markdown",
   "id": "9f31f169-6ca8-4a55-b6fe-0395b0b34644",
   "metadata": {},
   "source": [
    "Метод `RICE` является модификаицей метода `ICE` с добавлением параметра *R* (от англ. *reach*, охват). Соотвественно формула имеет следующий вид:\n",
    "\n",
    "$$RICE = \\dfrac {Reach \\cdot Impact \\cdot Confidence}{Efforts}.$$"
   ]
  },
  {
   "cell_type": "markdown",
   "id": "1ce1936f-3d82-4782-a388-257e2cb009b2",
   "metadata": {},
   "source": [
    "Посчитаем параметр `RICE`, используя датафрейм **`hypothesis`**, и выведем гипотезы в порядке убывания по данному показателю."
   ]
  },
  {
   "cell_type": "code",
   "execution_count": 15,
   "id": "4948ea9c-e5af-49b7-b392-b7e99761b661",
   "metadata": {
    "tags": []
   },
   "outputs": [
    {
     "data": {
      "text/html": [
       "<div>\n",
       "<style scoped>\n",
       "    .dataframe tbody tr th:only-of-type {\n",
       "        vertical-align: middle;\n",
       "    }\n",
       "\n",
       "    .dataframe tbody tr th {\n",
       "        vertical-align: top;\n",
       "    }\n",
       "\n",
       "    .dataframe thead th {\n",
       "        text-align: right;\n",
       "    }\n",
       "</style>\n",
       "<table border=\"1\" class=\"dataframe\">\n",
       "  <thead>\n",
       "    <tr style=\"text-align: right;\">\n",
       "      <th></th>\n",
       "      <th>hypothesis</th>\n",
       "      <th>RICE</th>\n",
       "    </tr>\n",
       "  </thead>\n",
       "  <tbody>\n",
       "    <tr>\n",
       "      <th>7</th>\n",
       "      <td>Добавить форму подписки на все основные страницы, чтобы собрать базу клиентов для email-рассылок</td>\n",
       "      <td>112.0</td>\n",
       "    </tr>\n",
       "    <tr>\n",
       "      <th>2</th>\n",
       "      <td>Добавить блоки рекомендаций товаров на сайт интернет магазина, чтобы повысить конверсию и средний чек заказа</td>\n",
       "      <td>56.0</td>\n",
       "    </tr>\n",
       "    <tr>\n",
       "      <th>0</th>\n",
       "      <td>Добавить два новых канала привлечения трафика, что позволит привлекать на 30% больше пользователей</td>\n",
       "      <td>40.0</td>\n",
       "    </tr>\n",
       "    <tr>\n",
       "      <th>6</th>\n",
       "      <td>Показать на главной странице баннеры с актуальными акциями и распродажами, чтобы увеличить конверсию</td>\n",
       "      <td>40.0</td>\n",
       "    </tr>\n",
       "    <tr>\n",
       "      <th>8</th>\n",
       "      <td>Запустить акцию, дающую скидку на товар в день рождения</td>\n",
       "      <td>16.2</td>\n",
       "    </tr>\n",
       "    <tr>\n",
       "      <th>3</th>\n",
       "      <td>Изменить структура категорий, что увеличит конверсию, т.к. пользователи быстрее найдут нужный товар</td>\n",
       "      <td>9.0</td>\n",
       "    </tr>\n",
       "    <tr>\n",
       "      <th>1</th>\n",
       "      <td>Запустить собственную службу доставки, что сократит срок доставки заказов</td>\n",
       "      <td>4.0</td>\n",
       "    </tr>\n",
       "    <tr>\n",
       "      <th>5</th>\n",
       "      <td>Добавить страницу отзывов клиентов о магазине, что позволит увеличить количество заказов</td>\n",
       "      <td>4.0</td>\n",
       "    </tr>\n",
       "    <tr>\n",
       "      <th>4</th>\n",
       "      <td>Изменить цвет фона главной страницы, чтобы увеличить вовлеченность пользователей</td>\n",
       "      <td>3.0</td>\n",
       "    </tr>\n",
       "  </tbody>\n",
       "</table>\n",
       "</div>"
      ],
      "text/plain": [
       "                                                                                                     hypothesis   \n",
       "7              Добавить форму подписки на все основные страницы, чтобы собрать базу клиентов для email-рассылок  \\\n",
       "2  Добавить блоки рекомендаций товаров на сайт интернет магазина, чтобы повысить конверсию и средний чек заказа   \n",
       "0            Добавить два новых канала привлечения трафика, что позволит привлекать на 30% больше пользователей   \n",
       "6          Показать на главной странице баннеры с актуальными акциями и распродажами, чтобы увеличить конверсию   \n",
       "8                                                       Запустить акцию, дающую скидку на товар в день рождения   \n",
       "3           Изменить структура категорий, что увеличит конверсию, т.к. пользователи быстрее найдут нужный товар   \n",
       "1                                     Запустить собственную службу доставки, что сократит срок доставки заказов   \n",
       "5                      Добавить страницу отзывов клиентов о магазине, что позволит увеличить количество заказов   \n",
       "4                              Изменить цвет фона главной страницы, чтобы увеличить вовлеченность пользователей   \n",
       "\n",
       "    RICE  \n",
       "7  112.0  \n",
       "2   56.0  \n",
       "0   40.0  \n",
       "6   40.0  \n",
       "8   16.2  \n",
       "3    9.0  \n",
       "1    4.0  \n",
       "5    4.0  \n",
       "4    3.0  "
      ]
     },
     "execution_count": 15,
     "metadata": {},
     "output_type": "execute_result"
    }
   ],
   "source": [
    "hypothesis['RICE'] = (hypothesis['reach'] * hypothesis['impact'] * hypothesis['confidence']) / hypothesis['efforts']\n",
    "\n",
    "pd.set_option('max_colwidth', 200)\n",
    "\n",
    "hypothesis[['hypothesis', 'RICE']].sort_values('RICE', ascending=False)"
   ]
  },
  {
   "cell_type": "markdown",
   "id": "4a183905-90bf-40b1-a67b-731aca92c5df",
   "metadata": {},
   "source": [
    "По расчетам метода `RICE` наиболее перспективными являются гипотезы под номерами **7**, **2**, **0** и **6**."
   ]
  },
  {
   "cell_type": "markdown",
   "id": "f272c3ba-0244-4c3e-97ca-a04f2c856f76",
   "metadata": {},
   "source": [
    "**Вывод:**\n",
    "\n",
    "Таким образом, при использовании методов приоритизации гипотез `ICE` и `RICE` были отобраны наиболее перспективные гипотезы. Однако результаты для двух методов отличаются. Данное отличие возникает по причине использования дополнительного параметра **Reach**, который отражает охват пользователей. С его учетом наиболее перспективными окажутся гипотезы под номерами **7**, **0** и **6** со следующими формулировками:\n",
    "\n",
    "- `Гипотеза №7`: Добавить форму подписки на все основные страницы, чтобы собрать базу клиентов для email-рассылок.\n",
    "- `Гипотеза №0`: Добавить два новых канала привлечения трафика, что позволит привлекать на 30% больше пользователей.\n",
    "- `Гипотеза №6`: Показать на главной странице баннеры с актуальными акциями и распродажами, чтобы увеличить конверсию.\n",
    "\n",
    "Далее протестируем одну из гипотез, а именно под номером **0**."
   ]
  },
  {
   "cell_type": "markdown",
   "id": "22292cf1-a668-4e09-bcf0-c18d0c382b1b",
   "metadata": {},
   "source": [
    "### 4. Анализ A/B-теста. Построение графических зависимостей для основных и измеряемых метрик\n",
    "\n",
    "---"
   ]
  },
  {
   "cell_type": "markdown",
   "id": "3f53308f-9a69-491c-81ce-80b511cd249a",
   "metadata": {},
   "source": [
    "После проведения A/B-теста гипотезы под номером **0** были получены результаты, которые приведены в датафреймах `orders` и `visitors`. Проанализируем полученные результаты и построим интересующие графические зависимости."
   ]
  },
  {
   "cell_type": "code",
   "execution_count": 16,
   "id": "8c5177bf-01e9-420b-9b35-15b4dac4f6fa",
   "metadata": {
    "tags": []
   },
   "outputs": [
    {
     "data": {
      "text/html": [
       "<div>\n",
       "<style scoped>\n",
       "    .dataframe tbody tr th:only-of-type {\n",
       "        vertical-align: middle;\n",
       "    }\n",
       "\n",
       "    .dataframe tbody tr th {\n",
       "        vertical-align: top;\n",
       "    }\n",
       "\n",
       "    .dataframe thead th {\n",
       "        text-align: right;\n",
       "    }\n",
       "</style>\n",
       "<table border=\"1\" class=\"dataframe\">\n",
       "  <thead>\n",
       "    <tr style=\"text-align: right;\">\n",
       "      <th></th>\n",
       "      <th>transaction_id</th>\n",
       "      <th>visitor_id</th>\n",
       "      <th>date</th>\n",
       "      <th>revenue</th>\n",
       "      <th>group</th>\n",
       "    </tr>\n",
       "  </thead>\n",
       "  <tbody>\n",
       "    <tr>\n",
       "      <th>0</th>\n",
       "      <td>3667963787</td>\n",
       "      <td>3312258926</td>\n",
       "      <td>2019-08-15</td>\n",
       "      <td>1650</td>\n",
       "      <td>B</td>\n",
       "    </tr>\n",
       "    <tr>\n",
       "      <th>1</th>\n",
       "      <td>2804400009</td>\n",
       "      <td>3642806036</td>\n",
       "      <td>2019-08-15</td>\n",
       "      <td>730</td>\n",
       "      <td>B</td>\n",
       "    </tr>\n",
       "    <tr>\n",
       "      <th>2</th>\n",
       "      <td>2961555356</td>\n",
       "      <td>4069496402</td>\n",
       "      <td>2019-08-15</td>\n",
       "      <td>400</td>\n",
       "      <td>A</td>\n",
       "    </tr>\n",
       "    <tr>\n",
       "      <th>3</th>\n",
       "      <td>3797467345</td>\n",
       "      <td>1196621759</td>\n",
       "      <td>2019-08-15</td>\n",
       "      <td>9759</td>\n",
       "      <td>B</td>\n",
       "    </tr>\n",
       "    <tr>\n",
       "      <th>4</th>\n",
       "      <td>2282983706</td>\n",
       "      <td>2322279887</td>\n",
       "      <td>2019-08-15</td>\n",
       "      <td>2308</td>\n",
       "      <td>B</td>\n",
       "    </tr>\n",
       "  </tbody>\n",
       "</table>\n",
       "</div>"
      ],
      "text/plain": [
       "   transaction_id  visitor_id       date  revenue group\n",
       "0      3667963787  3312258926 2019-08-15     1650     B\n",
       "1      2804400009  3642806036 2019-08-15      730     B\n",
       "2      2961555356  4069496402 2019-08-15      400     A\n",
       "3      3797467345  1196621759 2019-08-15     9759     B\n",
       "4      2282983706  2322279887 2019-08-15     2308     B"
      ]
     },
     "metadata": {},
     "output_type": "display_data"
    },
    {
     "data": {
      "text/html": [
       "<div>\n",
       "<style scoped>\n",
       "    .dataframe tbody tr th:only-of-type {\n",
       "        vertical-align: middle;\n",
       "    }\n",
       "\n",
       "    .dataframe tbody tr th {\n",
       "        vertical-align: top;\n",
       "    }\n",
       "\n",
       "    .dataframe thead th {\n",
       "        text-align: right;\n",
       "    }\n",
       "</style>\n",
       "<table border=\"1\" class=\"dataframe\">\n",
       "  <thead>\n",
       "    <tr style=\"text-align: right;\">\n",
       "      <th></th>\n",
       "      <th>date</th>\n",
       "      <th>group</th>\n",
       "      <th>visitors</th>\n",
       "    </tr>\n",
       "  </thead>\n",
       "  <tbody>\n",
       "    <tr>\n",
       "      <th>0</th>\n",
       "      <td>2019-08-01</td>\n",
       "      <td>A</td>\n",
       "      <td>719</td>\n",
       "    </tr>\n",
       "    <tr>\n",
       "      <th>1</th>\n",
       "      <td>2019-08-02</td>\n",
       "      <td>A</td>\n",
       "      <td>619</td>\n",
       "    </tr>\n",
       "    <tr>\n",
       "      <th>2</th>\n",
       "      <td>2019-08-03</td>\n",
       "      <td>A</td>\n",
       "      <td>507</td>\n",
       "    </tr>\n",
       "    <tr>\n",
       "      <th>3</th>\n",
       "      <td>2019-08-04</td>\n",
       "      <td>A</td>\n",
       "      <td>717</td>\n",
       "    </tr>\n",
       "    <tr>\n",
       "      <th>4</th>\n",
       "      <td>2019-08-05</td>\n",
       "      <td>A</td>\n",
       "      <td>756</td>\n",
       "    </tr>\n",
       "  </tbody>\n",
       "</table>\n",
       "</div>"
      ],
      "text/plain": [
       "        date group  visitors\n",
       "0 2019-08-01     A       719\n",
       "1 2019-08-02     A       619\n",
       "2 2019-08-03     A       507\n",
       "3 2019-08-04     A       717\n",
       "4 2019-08-05     A       756"
      ]
     },
     "execution_count": 16,
     "metadata": {},
     "output_type": "execute_result"
    }
   ],
   "source": [
    "display(orders.head())\n",
    "visitors.head()"
   ]
  },
  {
   "cell_type": "markdown",
   "id": "5487f959-67b5-45df-97f7-d7b5c2cc2004",
   "metadata": {},
   "source": [
    "#### 4.1 Анализ кумулятивных метрик"
   ]
  },
  {
   "cell_type": "markdown",
   "id": "e17a5061-1d1c-454c-87ff-135e844cd91f",
   "metadata": {},
   "source": [
    "Изучим графики кумулятивных, или накапливаемых данных. Таким образом получится отследить изменения результатов эксперимента за каждый день тестирования. Также по центральной предельной теореме значение кумулятивных метрик часто сходится и устанавливается около некоторого среднего, после этого зачастую можно определить, стоит останавливать тест или нет."
   ]
  },
  {
   "cell_type": "markdown",
   "id": "c0c7bcaf-f9e9-4ad2-a32e-01957ab7de94",
   "metadata": {},
   "source": [
    "Построим графики кумулятивной выручки, кумулятивного среднего чека, относительного изменения кумулятивного среднего чека группы B к группе A, кумулятивного среднего количества заказов на посетителя по группам, относительного изменения кумулятивного среднего количества заказов на посетителя группы B к группе A."
   ]
  },
  {
   "cell_type": "markdown",
   "id": "88554ced-ff50-4a66-9c7f-0ca2a368a3c4",
   "metadata": {},
   "source": [
    "Чтобы построить графики, нужно собрать кумулятивные данные. Для этого необходимо будет создать новый датафрейм **`cumulative_data`**. Однако для начала создадим массив уникальных пар значений дат и групп теста."
   ]
  },
  {
   "cell_type": "code",
   "execution_count": 17,
   "id": "5d05737e-96a1-405a-b5ac-1a2b930745c5",
   "metadata": {
    "tags": []
   },
   "outputs": [
    {
     "data": {
      "text/html": [
       "<div>\n",
       "<style scoped>\n",
       "    .dataframe tbody tr th:only-of-type {\n",
       "        vertical-align: middle;\n",
       "    }\n",
       "\n",
       "    .dataframe tbody tr th {\n",
       "        vertical-align: top;\n",
       "    }\n",
       "\n",
       "    .dataframe thead th {\n",
       "        text-align: right;\n",
       "    }\n",
       "</style>\n",
       "<table border=\"1\" class=\"dataframe\">\n",
       "  <thead>\n",
       "    <tr style=\"text-align: right;\">\n",
       "      <th></th>\n",
       "      <th>date</th>\n",
       "      <th>group</th>\n",
       "      <th>orders</th>\n",
       "      <th>buyers</th>\n",
       "      <th>revenue</th>\n",
       "      <th>visitors</th>\n",
       "    </tr>\n",
       "  </thead>\n",
       "  <tbody>\n",
       "    <tr>\n",
       "      <th>0</th>\n",
       "      <td>2019-08-01</td>\n",
       "      <td>A</td>\n",
       "      <td>24</td>\n",
       "      <td>20</td>\n",
       "      <td>148579</td>\n",
       "      <td>719</td>\n",
       "    </tr>\n",
       "    <tr>\n",
       "      <th>1</th>\n",
       "      <td>2019-08-01</td>\n",
       "      <td>B</td>\n",
       "      <td>21</td>\n",
       "      <td>20</td>\n",
       "      <td>101217</td>\n",
       "      <td>713</td>\n",
       "    </tr>\n",
       "    <tr>\n",
       "      <th>2</th>\n",
       "      <td>2019-08-02</td>\n",
       "      <td>A</td>\n",
       "      <td>44</td>\n",
       "      <td>38</td>\n",
       "      <td>242401</td>\n",
       "      <td>1338</td>\n",
       "    </tr>\n",
       "    <tr>\n",
       "      <th>3</th>\n",
       "      <td>2019-08-02</td>\n",
       "      <td>B</td>\n",
       "      <td>45</td>\n",
       "      <td>43</td>\n",
       "      <td>266748</td>\n",
       "      <td>1294</td>\n",
       "    </tr>\n",
       "    <tr>\n",
       "      <th>4</th>\n",
       "      <td>2019-08-03</td>\n",
       "      <td>A</td>\n",
       "      <td>68</td>\n",
       "      <td>62</td>\n",
       "      <td>354874</td>\n",
       "      <td>1845</td>\n",
       "    </tr>\n",
       "  </tbody>\n",
       "</table>\n",
       "</div>"
      ],
      "text/plain": [
       "        date group  orders  buyers  revenue  visitors\n",
       "0 2019-08-01     A      24      20   148579       719\n",
       "1 2019-08-01     B      21      20   101217       713\n",
       "2 2019-08-02     A      44      38   242401      1338\n",
       "3 2019-08-02     B      45      43   266748      1294\n",
       "4 2019-08-03     A      68      62   354874      1845"
      ]
     },
     "execution_count": 17,
     "metadata": {},
     "output_type": "execute_result"
    }
   ],
   "source": [
    "# создание массива уникальных пар значений дат и групп теста\n",
    "dates_groups = orders[['date', 'group']].drop_duplicates()\n",
    "\n",
    "# получение агрегированных кумулятивных данных по дням о заказах\n",
    "orders_aggregated = dates_groups.apply(\n",
    "    lambda x: orders[\n",
    "        np.logical_and(\n",
    "            orders['date'] <= x['date'], orders['group'] == x['group']\n",
    "        )].agg(\n",
    "        {\n",
    "            'date' : 'max',\n",
    "            'group' : 'max',\n",
    "            'transaction_id' : 'nunique',\n",
    "            'visitor_id' : 'nunique',\n",
    "            'revenue' : 'sum'\n",
    "        }\n",
    "    ), axis=1).sort_values(by=['date', 'group'])\n",
    "                                                        \n",
    "# получение агрегированных кумулятивных данных по дням о посетителях\n",
    "visitors_aggregated = dates_groups.apply(\n",
    "    lambda x: visitors[\n",
    "        np.logical_and(\n",
    "            visitors['date'] <= x['date'], visitors['group'] == x['group']\n",
    "        )].agg(\n",
    "        {\n",
    "            'date' : 'max',\n",
    "            'group' : 'max',\n",
    "            'visitors' : 'sum'\n",
    "        }\n",
    "    ), axis=1).sort_values(by=['date', 'group'])\n",
    "\n",
    "# объединение кумулятивных данных в одну таблицу\n",
    "cumulative_data = orders_aggregated.merge(visitors_aggregated, left_on=['date', 'group'], right_on=['date', 'group'])\n",
    "cumulative_data.columns = ['date', 'group', 'orders', 'buyers', 'revenue', 'visitors']\n",
    "                                                            \n",
    "cumulative_data.head()"
   ]
  },
  {
   "cell_type": "markdown",
   "id": "c7afab8c-2a93-4554-b0b4-da665423b8ce",
   "metadata": {},
   "source": [
    "##### 4.1.1 Анализ кумулятивной выручки по дням и группам"
   ]
  },
  {
   "cell_type": "markdown",
   "id": "a475f3a4-9811-4e0f-9260-b8ddcdf2f909",
   "metadata": {},
   "source": [
    "Теперь можно построить график кумулятивной выручки по дням и группам A/B-тестирования."
   ]
  },
  {
   "cell_type": "code",
   "execution_count": 18,
   "id": "e9a1d5c1-9560-4300-a923-0adb57eadc1f",
   "metadata": {
    "tags": []
   },
   "outputs": [
    {
     "data": {
      "image/png": "[encoded data removed]",
      "text/plain": [
       "<Figure size 1200x600 with 1 Axes>"
      ]
     },
     "metadata": {},
     "output_type": "display_data"
    }
   ],
   "source": [
    "# датафрейм с кумулятивным количеством заказов и кумулятивной выручкой по дням в группе A\n",
    "cumulative_revenue_a = cumulative_data[cumulative_data['group'] == 'A'][['date', 'revenue', 'orders']]\n",
    "\n",
    "# датафрейм с кумулятивным количеством заказов и кумулятивной выручкой по дням в группе A\n",
    "cumulative_revenue_b = cumulative_data[cumulative_data['group'] == 'B'][['date', 'revenue', 'orders']]\n",
    "\n",
    "plt.figure(figsize=(12, 6))\n",
    "plt.xlabel('Дата')\n",
    "plt.ylabel('Выручка')\n",
    "plt.title('Кумулятивная выручка по группам')\n",
    "\n",
    "# график выручки группы A\n",
    "plt.plot(cumulative_revenue_a['date'], cumulative_revenue_a['revenue'], label='A')\n",
    "\n",
    "# график выручки группы B\n",
    "plt.plot(cumulative_revenue_b['date'], cumulative_revenue_b['revenue'], label='B')\n",
    "\n",
    "plt.legend();"
   ]
  },
  {
   "cell_type": "markdown",
   "id": "76edea6f-d8e8-4a44-ac26-a7bd437895f5",
   "metadata": {},
   "source": [
    "По графику видно, что выручка почти равномерно увеличивается в течение всего теста, однако для группы **B** наблюдается резкий всплеск с 18 по 19 августа. Это может сигнализировать о всплеске числа заказов или о появлении очень дорогих заказов в выборке."
   ]
  },
  {
   "cell_type": "markdown",
   "id": "0889bca9-4156-444a-bd8a-4aa4421f84be",
   "metadata": {},
   "source": [
    "##### 4.1.2 Анализ кумулятивного среднего чека по группам"
   ]
  },
  {
   "cell_type": "markdown",
   "id": "bd44b5f7-70b4-450f-ab6f-5b5ae3bace8f",
   "metadata": {},
   "source": [
    "Построим график среднего чека по группам - разделим кумулятивную выручку на кумулятивное число заказов."
   ]
  },
  {
   "cell_type": "code",
   "execution_count": 19,
   "id": "6d8d91b6-8025-4f23-ad12-1e6a442ca7f3",
   "metadata": {
    "tags": []
   },
   "outputs": [
    {
     "data": {
      "image/png": "[encoded data removed]",
      "text/plain": [
       "<Figure size 1200x600 with 1 Axes>"
      ]
     },
     "metadata": {},
     "output_type": "display_data"
    }
   ],
   "source": [
    "plt.figure(figsize=(12, 6))\n",
    "plt.xlabel('Дата')\n",
    "plt.ylabel('Средний чек')\n",
    "plt.title('Кумулятивный средний чек по группам')\n",
    "\n",
    "# график среднего чека группы A\n",
    "plt.plot(cumulative_revenue_a['date'], cumulative_revenue_a['revenue']/cumulative_revenue_a['orders'], label='A')\n",
    "\n",
    "# график среднего чека группы B\n",
    "plt.plot(cumulative_revenue_b['date'], cumulative_revenue_b['revenue']/cumulative_revenue_b['orders'], label='B')\n",
    "\n",
    "plt.legend();"
   ]
  },
  {
   "cell_type": "markdown",
   "id": "3c18f0ce-1412-4f2c-9822-6d330767b85f",
   "metadata": {},
   "source": [
    "Также для группы **B** наблюдается всплеск с 18 по 19 августа, но ближе к концу теста значение для данной группы начинает уменьшаться. Возможно, в этот период могли попасть крупные заказы, которые и отразились скачком на графике. Таким образом, необходим больший объем данных для того, чтобы прийти к реальному значению среднего чека и установиться на его уровне."
   ]
  },
  {
   "cell_type": "markdown",
   "id": "811afc7d-5b3c-4b28-9024-d3d8b137e7a4",
   "metadata": {},
   "source": [
    "##### 4.1.3 Анализ относительного изменения кумулятивного среднего чека группы B к группе A"
   ]
  },
  {
   "cell_type": "markdown",
   "id": "4903098b-5138-4241-bd81-b120245a4c29",
   "metadata": {},
   "source": [
    "Далее построим график относительного различия для среднего чека."
   ]
  },
  {
   "cell_type": "code",
   "execution_count": 20,
   "id": "0d5441fb-a305-4380-acc8-f94abe1bc204",
   "metadata": {
    "tags": []
   },
   "outputs": [
    {
     "data": {
      "image/png": "[encoded data removed]",
      "text/plain": [
       "<Figure size 1200x600 with 1 Axes>"
      ]
     },
     "metadata": {},
     "output_type": "display_data"
    }
   ],
   "source": [
    "# сбор данных в один датафрейм\n",
    "merged_cumulative_revenue = cumulative_revenue_a.merge(cumulative_revenue_b,\n",
    "                                                       left_on='date',\n",
    "                                                       right_on='date',\n",
    "                                                       how='left',\n",
    "                                                       suffixes=['_a', '_b'])\n",
    "\n",
    "plt.figure(figsize=(12, 6))\n",
    "plt.xlabel('Дата')\n",
    "plt.ylabel('Средний чек')\n",
    "plt.title('Относительное изменения кумулятивного среднего чека группы B к группе A')\n",
    "\n",
    "# построение отношения средних чеков\n",
    "plt.plot(merged_cumulative_revenue['date'], (merged_cumulative_revenue['revenue_b']/merged_cumulative_revenue['orders_b'])/(merged_cumulative_revenue['revenue_a']/merged_cumulative_revenue['orders_a']) - 1)\n",
    "\n",
    "# добавление оси X\n",
    "plt.axhline(y=0, color='black', linestyle='--');"
   ]
  },
  {
   "cell_type": "markdown",
   "id": "ad51035d-7e7c-42f7-8a12-c505689f0147",
   "metadata": {},
   "source": [
    "В нескольких участках графика различия между сегментами наблюдаются выбросы, так что вполне вероятно, что это может быть обусловлено крупными заказами."
   ]
  },
  {
   "cell_type": "markdown",
   "id": "5e4b2a5f-16a8-4902-b803-37728f72e3fb",
   "metadata": {},
   "source": [
    "##### 4.1.4 Анализ кумулятивного среднего количества заказов на посетителя по группам"
   ]
  },
  {
   "cell_type": "markdown",
   "id": "62e3ecb6-7033-498c-9b21-b24f3107ef32",
   "metadata": {},
   "source": [
    "Аналогично проанализируем график кумулятивного среднего количества заказов на посетителя по группам."
   ]
  },
  {
   "cell_type": "code",
   "execution_count": 21,
   "id": "70c8e6c4-c9a9-4d13-84cd-0028c0603f21",
   "metadata": {
    "tags": []
   },
   "outputs": [
    {
     "data": {
      "image/png": "[encoded data removed]",
      "text/plain": [
       "<Figure size 1200x600 with 1 Axes>"
      ]
     },
     "metadata": {},
     "output_type": "display_data"
    }
   ],
   "source": [
    "cumulative_data['conversion'] = cumulative_data['orders'] / cumulative_data['visitors']\n",
    "\n",
    "# отделение данных по группе А\n",
    "cumulative_data_a = cumulative_data[cumulative_data['group'] == 'A']\n",
    "\n",
    "# отделение данных по группе B\n",
    "cumulative_data_b = cumulative_data[cumulative_data['group'] == 'B']\n",
    "\n",
    "# построение графиков\n",
    "plt.figure(figsize=(12, 6))\n",
    "plt.xlabel('Дата')\n",
    "plt.ylabel('Среднее количество заказов')\n",
    "plt.title('Кумулятивное среднее количество заказов на посетителя по группам')\n",
    "plt.plot(cumulative_data_a['date'], cumulative_data_a['conversion'], label='A')\n",
    "plt.plot(cumulative_data_b['date'], cumulative_data_b['conversion'], label='B')\n",
    "plt.legend();"
   ]
  },
  {
   "cell_type": "markdown",
   "id": "78b71e59-5c6f-4ec3-9596-31b11b54e9bf",
   "metadata": {},
   "source": [
    "Видно, что показатель среднего количества заказов для группы **B** резко вырвался вперед в начале теста и начал потихоньку стабилизироваться около одного значения, в то время как для группы **A** он оказался значительно ниже, и также после резкого скачка в самом начале начал колебаться вокруг определенного значения."
   ]
  },
  {
   "cell_type": "markdown",
   "id": "ce57a53b-b15a-4489-8326-23481e674323",
   "metadata": {},
   "source": [
    "##### 4.1.5 Анализ относительного изменения кумулятивного среднего количества заказов на посетителя группы B к группе A"
   ]
  },
  {
   "cell_type": "markdown",
   "id": "f360c952-4a12-4289-8d96-367aadd98674",
   "metadata": {},
   "source": [
    "Построим график относительного различия кумулятивного среднего количества заказов на посетителя группы B к группе A."
   ]
  },
  {
   "cell_type": "code",
   "execution_count": 22,
   "id": "8078a68a-54b6-4228-849f-2a72a9aabaac",
   "metadata": {
    "tags": []
   },
   "outputs": [
    {
     "data": {
      "image/png": "[encoded data removed]",
      "text/plain": [
       "<Figure size 1200x600 with 1 Axes>"
      ]
     },
     "metadata": {},
     "output_type": "display_data"
    }
   ],
   "source": [
    "# сбор данных в один датафрейм\n",
    "merged_cumulative_conversions = cumulative_data_a[['date', 'conversion']].merge(cumulative_data_b[['date', 'conversion']],\n",
    "                                                                                left_on='date',\n",
    "                                                                                right_on='date',\n",
    "                                                                                how='left',\n",
    "                                                                                suffixes=['_a', '_b'])\n",
    "\n",
    "plt.figure(figsize=(12, 6))\n",
    "plt.xlabel('Дата')\n",
    "plt.ylabel('Среднее количество заказов')\n",
    "plt.title('Относительное изменение кумулятивного среднего количества заказов на посетителя группы B к группе A')\n",
    "\n",
    "# построение отношения среднего количества заказов\n",
    "plt.plot(merged_cumulative_conversions['date'], merged_cumulative_conversions['conversion_b']/merged_cumulative_conversions['conversion_a'] - 1)\n",
    "\n",
    "# добавление горизонтальных линий\n",
    "plt.axhline(y=0, color='black', linestyle='--')\n",
    "plt.axhline(y=0.15, color='grey', linestyle='--');"
   ]
  },
  {
   "cell_type": "markdown",
   "id": "00358f11-3a84-429b-bf93-e3520d860940",
   "metadata": {},
   "source": [
    "По графику видно, что группа **B** с течением времени начала выигрывать по данному показателю у группы **A**. Однако показатель относительного различия среднего количества заказов для двух групп еще полностью не установился, наблюдается лишь тенденция к стабилизации около уровня 0,15. Необходимо дополнительно проанализировать количество заказов, оформляемых посетителями."
   ]
  },
  {
   "cell_type": "markdown",
   "id": "10adb200-f8b5-4cf6-91cd-e781aabcb294",
   "metadata": {},
   "source": [
    "#### 4.2 Анализ по оформляемым заказам"
   ]
  },
  {
   "cell_type": "markdown",
   "id": "2bcc0f9f-d29a-44bf-af21-98533b1254cd",
   "metadata": {},
   "source": [
    "##### 4.2.1 Построение точечного графика количества заказов по пользователям"
   ]
  },
  {
   "cell_type": "markdown",
   "id": "9f8359f7-ad1e-43bc-8348-016bf51e40d4",
   "metadata": {},
   "source": [
    "Оценим количество заказов по пользователям и построим точечный график."
   ]
  },
  {
   "cell_type": "code",
   "execution_count": 23,
   "id": "d71f9912-4307-4b9e-b33e-42ae4689073f",
   "metadata": {
    "tags": []
   },
   "outputs": [
    {
     "name": "stdout",
     "output_type": "stream",
     "text": [
      "      visitor_id  orders\n",
      "1023  4256040402      11\n",
      "591   2458001652      11\n",
      "569   2378935119       9\n",
      "487   2038680547       8\n",
      "44     199603092       5\n",
      "744   3062433592       5\n",
      "55     237748145       5\n",
      "917   3803269165       5\n",
      "299   1230306981       5\n",
      "897   3717692402       5\n"
     ]
    },
    {
     "data": {
      "image/png": "[encoded data removed]",
      "text/plain": [
       "<Figure size 1200x600 with 1 Axes>"
      ]
     },
     "metadata": {},
     "output_type": "display_data"
    }
   ],
   "source": [
    "orders_by_users = (\n",
    "    orders.groupby('visitor_id', as_index=False)\n",
    "    .agg({'transaction_id': 'nunique'})\n",
    ")\n",
    "orders_by_users.columns = ['visitor_id', 'orders']\n",
    "\n",
    "print(orders_by_users.sort_values(by='orders', ascending=False).head(10))\n",
    "\n",
    "# серия из чисел от 0 до количества наблюдений в orders_by_users\n",
    "x_values = pd.Series(range(0, len(orders_by_users)))\n",
    "\n",
    "plt.figure(figsize=(12, 6))\n",
    "plt.ylabel('Количество заказов')\n",
    "plt.title('Количество заказов на одного пользователя')\n",
    "plt.scatter(x_values, orders_by_users['orders']);"
   ]
  },
  {
   "cell_type": "markdown",
   "id": "e1256117-ff58-4f68-8ada-c5be6f1a306c",
   "metadata": {},
   "source": [
    "По графику видно, что большинство пользователей оформляли не более 1 заказа, однако нетрудно заметить несколько выбросов с большим количеством заказов. Дополнительно посчитаем 95-й и 99-й перцентили для оценки количества заказов на одного пользователя."
   ]
  },
  {
   "cell_type": "code",
   "execution_count": 24,
   "id": "cc6b4ea2-4732-41f2-a9ab-67159ad8a32e",
   "metadata": {
    "tags": []
   },
   "outputs": [
    {
     "name": "stdout",
     "output_type": "stream",
     "text": [
      "[2. 4.]\n"
     ]
    }
   ],
   "source": [
    "print(np.percentile(orders_by_users['orders'], [95, 99]))"
   ]
  },
  {
   "cell_type": "markdown",
   "id": "0a65e027-12a8-4b68-998e-cd4d74675f65",
   "metadata": {},
   "source": [
    "Не более 5% пользователей оформляли больше чем 1 заказ и не более 1% больше чем 2. Выберем 1 заказ на одного пользователя в качестве верхней границы числа заказов и тем самым отсеем аномальных пользователей по этому показателю."
   ]
  },
  {
   "cell_type": "code",
   "execution_count": 25,
   "id": "aaa64aea-d690-4d00-8760-db7a21cb831e",
   "metadata": {
    "tags": []
   },
   "outputs": [],
   "source": [
    "orders_border = np.percentile(orders_by_users['orders'], 95)"
   ]
  },
  {
   "cell_type": "markdown",
   "id": "40d2494c-c190-4abd-acc4-b166dc9cbff1",
   "metadata": {},
   "source": [
    "#### 4.3 Анализ по стоимости заказов"
   ]
  },
  {
   "cell_type": "markdown",
   "id": "b00f7665-e087-4099-ba4f-82df95253bd7",
   "metadata": {},
   "source": [
    "Оценим стоимость заказов для каждого пользователя и построим точечный график. Таким образом выберем верхнюю границу для определения аномальных заказов и отсеем заказы со слишком  высокой стоимостью."
   ]
  },
  {
   "cell_type": "code",
   "execution_count": 26,
   "id": "6c0e62e2-67f4-412f-9df9-2ef49d482fd5",
   "metadata": {
    "tags": []
   },
   "outputs": [
    {
     "name": "stdout",
     "output_type": "stream",
     "text": [
      "      transaction_id  visitor_id       date  revenue group\n",
      "425        590470918  1920142716 2019-08-19  1294500     B\n",
      "1196      3936777065  2108080724 2019-08-15   202740     B\n",
      "858        192721366  1316129916 2019-08-27    93940     A\n",
      "1136       666610489  1307669133 2019-08-13    92550     A\n",
      "744       3668308183   888512513 2019-08-27    86620     B\n",
      "682       1216533772  4266935830 2019-08-29    78990     B\n",
      "662       1811671147  4266935830 2019-08-29    78990     A\n",
      "743       3603576309  4133034833 2019-08-09    67990     A\n",
      "1103      1348774318  1164614297 2019-08-12    66350     A\n",
      "1099       316924019   148427295 2019-08-12    65710     A\n"
     ]
    },
    {
     "data": {
      "image/png": "[encoded data removed]",
      "text/plain": [
       "<Figure size 1200x600 with 1 Axes>"
      ]
     },
     "metadata": {},
     "output_type": "display_data"
    }
   ],
   "source": [
    "print(orders.sort_values(by='revenue', ascending=False).head(10))\n",
    "\n",
    "# серия из чисел от 0 до количества наблюдений в orders\n",
    "x_values = pd.Series(range(0, len(orders['revenue'])))\n",
    "\n",
    "plt.figure(figsize=(12, 6))\n",
    "plt.ylabel('Стоимость заказа')\n",
    "plt.xlabel('Пользователи')\n",
    "plt.title('Стоимость заказа на одного пользователя')\n",
    "plt.scatter(x_values, orders['revenue']);"
   ]
  },
  {
   "cell_type": "markdown",
   "id": "03636a51-1327-4e7f-b420-075e8f46e553",
   "metadata": {},
   "source": [
    "Дополнительно построим этот же график, но с изменным масштабом для оси Y."
   ]
  },
  {
   "cell_type": "code",
   "execution_count": 27,
   "id": "796eabe8-c867-402b-9f93-3786aef350f4",
   "metadata": {
    "tags": []
   },
   "outputs": [
    {
     "data": {
      "image/png": "[encoded data removed]",
      "text/plain": [
       "<Figure size 1200x600 with 1 Axes>"
      ]
     },
     "metadata": {},
     "output_type": "display_data"
    }
   ],
   "source": [
    "plt.figure(figsize=(12, 6))\n",
    "plt.xlabel('Пользователи')\n",
    "plt.ylabel('Стоимость заказа')\n",
    "plt.ylim([0, 0.1e6])\n",
    "plt.title('Стоимость заказа на одного пользователя')\n",
    "plt.scatter(x_values, orders['revenue']);"
   ]
  },
  {
   "cell_type": "markdown",
   "id": "6d67a27b-d7cf-4c2c-a46e-c01126398aba",
   "metadata": {},
   "source": [
    "Для большинства заказов их стоимость не превышает 30 000, однако также можно заметить некоторые аномальные выбросы. Посчитаем 95-й и 99-й перцентили для дополнительной оценки верхней границы."
   ]
  },
  {
   "cell_type": "code",
   "execution_count": 28,
   "id": "d662da7f-d56f-443e-9384-039b70b5b59f",
   "metadata": {
    "tags": []
   },
   "outputs": [
    {
     "name": "stdout",
     "output_type": "stream",
     "text": [
      "[28000.  58233.2]\n"
     ]
    }
   ],
   "source": [
    "print(np.percentile(orders['revenue'], [95, 99])) "
   ]
  },
  {
   "cell_type": "markdown",
   "id": "1e83e3b9-eb56-47fe-8a15-d450ed272afd",
   "metadata": {},
   "source": [
    "Не более 5% заказов дороже чем 26 785 заказа и не более 1% дороже чем 53 904. Выберем стоимость заказа равную 26 785 в качестве верхней границы и тем самым отсеем аномальных пользователей по этому показателю."
   ]
  },
  {
   "cell_type": "code",
   "execution_count": 29,
   "id": "6098dafb-5c44-4b70-9b54-8daea73139c3",
   "metadata": {
    "tags": []
   },
   "outputs": [],
   "source": [
    "revenue_border = np.percentile(orders['revenue'], 95)"
   ]
  },
  {
   "cell_type": "markdown",
   "id": "70042b0e-1bde-44a9-95f1-0ad2e056f6e3",
   "metadata": {
    "tags": []
   },
   "source": [
    "#### 4.4 Расчет статистической значимости и ее оценка"
   ]
  },
  {
   "cell_type": "markdown",
   "id": "37e105f9-ca37-41a9-9b91-4f6fa4c1566c",
   "metadata": {},
   "source": [
    "##### 4.4.1 Статистическая значимость различий в среднем количестве заказов на посетителя по \"сырым\" данным"
   ]
  },
  {
   "cell_type": "markdown",
   "id": "73fa65c8-4844-430f-8ba8-6e443273d7d4",
   "metadata": {},
   "source": [
    "Посчитаем статистическую значимость различий в среднем количестве заказов на пользователя и среднем чеке заказа между группами по \"сырым\" данным - без удаления аномальных пользователей."
   ]
  },
  {
   "cell_type": "markdown",
   "id": "46ebf6d8-fab2-4221-8ca7-402b16633fae",
   "metadata": {},
   "source": [
    "Сформулируем гипотезы:\n",
    "\n",
    "- **Нулевая**: *Статистически значимых различий в среднем количестве заказов между группами по имеющимся данным нет*.\n",
    "- **Альтернативная**: *Статистически значимые различия в среднем количестве заказов между группами по имеющимся данным есть*."
   ]
  },
  {
   "cell_type": "markdown",
   "id": "37fa12da-2b80-43e5-91de-318ec4ef88f8",
   "metadata": {},
   "source": [
    "Установим уровень статистической значимости:\n",
    "$$\\alpha = 0,05.$$"
   ]
  },
  {
   "cell_type": "markdown",
   "id": "876ba9c6-aca5-4882-a0a0-4047e2e00492",
   "metadata": {},
   "source": [
    "Поскольку в исходных данных имеются выбросы и распределение для них не имеет вид нормального, будем использовать критерий, основанный на структурированном или непараметрическом подходе, а именно **\"U-критерий Манна-Уитни\"**."
   ]
  },
  {
   "cell_type": "markdown",
   "id": "d4bc6c22-0ed2-45a4-8aec-4c54250ff77b",
   "metadata": {},
   "source": [
    "Произведем необходимую подготовку данных и посчитаем статистическую значимость."
   ]
  },
  {
   "cell_type": "code",
   "execution_count": 30,
   "id": "3586e3f2-ef7d-4fcc-acec-8214c7c7f468",
   "metadata": {},
   "outputs": [
    {
     "name": "stdout",
     "output_type": "stream",
     "text": [
      "P-value: 0.017\n",
      "Относительный выигрыш/проигрыш группы B: 0.138\n"
     ]
    }
   ],
   "source": [
    "# подготовка данных\n",
    "\n",
    "visitors_a_daily = visitors[visitors['group'] == 'A'][['date', 'visitors']]\n",
    "visitors_a_daily.columns = ['date', 'visitors_per_date_a']\n",
    "\n",
    "# количество пользователей в выбранную дату в группе A\n",
    "visitors_a_cummulative = visitors_a_daily.apply(\n",
    "    lambda x: visitors_a_daily[visitors_a_daily['date'] <= x['date']].agg(\n",
    "        {'date': 'max', 'visitors_per_date_a': 'sum'}\n",
    "    ),\n",
    "    axis=1,\n",
    ")\n",
    "visitors_a_cummulative.columns = ['date', 'visitors_cummulative_a']\n",
    "\n",
    "visitors_b_daily = visitors[visitors['group'] == 'B'][['date', 'visitors']]\n",
    "visitors_b_daily.columns = ['date', 'visitors_per_date_b']\n",
    "\n",
    "# количество пользователей в выбранную дату в группе B\n",
    "visitors_b_cummulative = visitors_b_daily.apply(\n",
    "    lambda x: visitors_b_daily[visitors_b_daily['date'] <= x['date']].agg(\n",
    "        {'date': 'max', 'visitors_per_date_b': 'sum'}\n",
    "    ),\n",
    "    axis=1,\n",
    ")\n",
    "visitors_b_cummulative.columns = ['date', 'visitors_cummulative_b']\n",
    "\n",
    "orders_a_daily = (\n",
    "    orders[orders['group'] == 'A'][['date', 'transaction_id', 'visitor_id', 'revenue']]\n",
    "    .groupby('date', as_index=False)\n",
    "    .agg({'transaction_id': pd.Series.nunique, 'revenue': 'sum'})\n",
    ")\n",
    "orders_a_daily.columns = ['date', 'orders_per_date_a', 'revenue_per_date_a']\n",
    "\n",
    "# суммарное количество заказов до выбранной даты включительно в группе A\n",
    "orders_a_cummulative = orders_a_daily.apply(\n",
    "    lambda x: orders_a_daily[orders_a_daily['date'] <= x['date']].agg(\n",
    "        {'date': 'max', 'orders_per_date_a': 'sum', 'revenue_per_date_a': 'sum'}\n",
    "    ),\n",
    "    axis=1,\n",
    ").sort_values(by=['date'])\n",
    "orders_a_cummulative.columns = [\n",
    "    'date',\n",
    "    'orders_cummulative_a',\n",
    "    'revenue_cummulative_a',\n",
    "]\n",
    "\n",
    "orders_b_daily = (\n",
    "    orders[orders['group'] == 'B'][['date', 'transaction_id', 'visitor_id', 'revenue']]\n",
    "    .groupby('date', as_index=False)\n",
    "    .agg({'transaction_id': pd.Series.nunique, 'revenue': 'sum'})\n",
    ")\n",
    "orders_b_daily.columns = ['date', 'orders_per_date_b', 'revenue_per_date_b']\n",
    "\n",
    "# суммарное количество заказов до выбранной даты включительно в группе B\n",
    "orders_b_cummulative = orders_b_daily.apply(\n",
    "    lambda x: orders_b_daily[orders_b_daily['date'] <= x['date']].agg(\n",
    "        {'date': 'max', 'orders_per_date_b': 'sum', 'revenue_per_date_b': 'sum'}\n",
    "    ),\n",
    "    axis=1,\n",
    ").sort_values(by=['date'])\n",
    "orders_b_cummulative.columns = [\n",
    "    'date',\n",
    "    'orders_cummulative_b',\n",
    "    'revenue_cummulative_b',\n",
    "]\n",
    "\n",
    "data = (\n",
    "    orders_a_daily.merge(\n",
    "        orders_b_daily, left_on='date', right_on='date', how='left'\n",
    "    )\n",
    "    .merge(orders_a_cummulative, left_on='date', right_on='date', how='left')\n",
    "    .merge(orders_b_cummulative, left_on='date', right_on='date', how='left')\n",
    "    .merge(visitors_a_daily, left_on='date', right_on='date', how='left')\n",
    "    .merge(visitors_b_daily, left_on='date', right_on='date', how='left')\n",
    "    .merge(visitors_a_cummulative, left_on='date', right_on='date', how='left')\n",
    "    .merge(visitors_b_cummulative, left_on='date', right_on='date', how='left')\n",
    ")\n",
    "\n",
    "# пользователи группы A, которые оформили хотя бы один заказ\n",
    "orders_by_users_a = (\n",
    "    orders[orders['group'] == 'A']\n",
    "    .groupby('visitor_id', as_index=False)\n",
    "    .agg({'transaction_id': pd.Series.nunique})\n",
    ")\n",
    "orders_by_users_a.columns = ['visitor_id', 'orders']\n",
    "\n",
    "# пользователи группы B, которые оформили хотя бы один заказ\n",
    "orders_by_users_b = (\n",
    "    orders[orders['group'] == 'B']\n",
    "    .groupby('visitor_id', as_index=False)\n",
    "    .agg({'transaction_id': pd.Series.nunique})\n",
    ")\n",
    "orders_by_users_b.columns = ['visitor_id', 'orders']\n",
    "\n",
    "# количество заказов для пользователей группы A\n",
    "sample_a = pd.concat(\n",
    "    [\n",
    "        orders_by_users_a['orders'],\n",
    "        pd.Series(\n",
    "            0,\n",
    "            index=np.arange(\n",
    "                data['visitors_per_date_a'].sum() - len(orders_by_users_a['orders'])\n",
    "            ),\n",
    "            name='orders',\n",
    "        ),\n",
    "    ],\n",
    "    axis=0,\n",
    ")\n",
    "\n",
    "# количество заказов для пользователей группы B\n",
    "sample_b = pd.concat(\n",
    "    [\n",
    "        orders_by_users_b['orders'],\n",
    "        pd.Series(\n",
    "            0,\n",
    "            index=np.arange(\n",
    "                data['visitors_per_date_b'].sum() - len(orders_by_users_b['orders'])\n",
    "            ),\n",
    "            name='orders',\n",
    "        ),\n",
    "    ],\n",
    "    axis=0,\n",
    ")\n",
    "\n",
    "\n",
    "print('P-value: {0:.3f}'.format(stats.mannwhitneyu(sample_a, sample_b)[1]))\n",
    "print('Относительный выигрыш/проигрыш группы B: {0:.3f}'.format(sample_b.mean() / sample_a.mean() - 1))"
   ]
  },
  {
   "cell_type": "markdown",
   "id": "2f4c54e9-ac2a-45f0-b05f-bd1bcf881150",
   "metadata": {},
   "source": [
    "Получили, что по \"сырым\" данным имеются различия в среднем количестве заказов между группами **A** и **B**, поскольку рассчитанное **p-value** (0,011) сильно меньше заданной границы (0,05). При этом относительный выигрыш группы **B** равен 16%. Таким образом, нулевую гипотезу можно отвергнуть."
   ]
  },
  {
   "cell_type": "markdown",
   "id": "4c7fb5c3-a9db-44d0-afe0-ef1d9d615761",
   "metadata": {},
   "source": [
    "##### 4.4.2 Статистическая значимость различий в среднем чеке заказа между группами по \"сырым\" данным"
   ]
  },
  {
   "cell_type": "markdown",
   "id": "6ba03627-18ab-456f-a0b0-0a41ad623fa2",
   "metadata": {},
   "source": [
    "Посчитаем статистическую значимость различий в среднем чеке заказа между группами по \"сырым\" данным - без удаления аномальных пользователей."
   ]
  },
  {
   "cell_type": "markdown",
   "id": "fde10c32-f714-4d43-824d-d0ecf9b66c19",
   "metadata": {},
   "source": [
    "Сформулируем гипотезы:\n",
    "\n",
    "- **Нулевая**: *Статистически значимых различий в среднем чеке между группами по имеющимся данным нет*.\n",
    "- **Альтернативная**: *Статистически значимые различия в среднем чеке между группами по имеющимся данным есть*."
   ]
  },
  {
   "cell_type": "markdown",
   "id": "6eea12ee-a62e-4afe-bb1b-6b7d91db7f76",
   "metadata": {},
   "source": [
    "Установим уровень статистической значимости:\n",
    "$$\\alpha = 0,05.$$"
   ]
  },
  {
   "cell_type": "markdown",
   "id": "1a67b187-f67b-4289-9936-d0bd4d01d61b",
   "metadata": {},
   "source": [
    "Поскольку в исходных данных имеются выбросы и распределение для них не имеет вид нормального, будем использовать критерий, основанный на структурированном или непараметрическом подходе, а именно **\"U-критерий Манна-Уитни\"**."
   ]
  },
  {
   "cell_type": "markdown",
   "id": "5a9a6452-a5b9-4714-88ff-66d155e136c0",
   "metadata": {},
   "source": [
    "Посчитаем статистическую значимость."
   ]
  },
  {
   "cell_type": "code",
   "execution_count": 31,
   "id": "baf7f59f-e38f-42c7-b354-dd1a666cf031",
   "metadata": {
    "tags": []
   },
   "outputs": [
    {
     "name": "stdout",
     "output_type": "stream",
     "text": [
      "P-value: 0.729\n",
      "Относительный выигрыш/проигрыш группы B: 0.259\n"
     ]
    }
   ],
   "source": [
    "print('P-value: {0:.3f}'.format(stats.mannwhitneyu(orders[orders['group']=='A']['revenue'], orders[orders['group']=='B']['revenue'])[1]))\n",
    "print('Относительный выигрыш/проигрыш группы B: {0:.3f}'.format(orders[orders['group']=='B']['revenue'].mean()/orders[orders['group']=='A']['revenue'].mean()-1))"
   ]
  },
  {
   "cell_type": "markdown",
   "id": "5418c098-0d2c-4a3e-b800-8c183c22c3e8",
   "metadata": {},
   "source": [
    "Таким образом, рассчитанный **p-value** значительно больше 0,05, поэтому причин отвергать нулевую гипотезу и считать, что в среднем чеке есть различия, нет. При этом средний чек группы **B** выше на 28,7% среднего чека группы **A**."
   ]
  },
  {
   "cell_type": "markdown",
   "id": "f727572b-e3ea-4373-b556-0a2706d2416e",
   "metadata": {},
   "source": [
    "##### 4.4.3 Статистическая значимость различий в среднем количестве заказов на посетителя между группами по \"очищенным\" данным"
   ]
  },
  {
   "cell_type": "markdown",
   "id": "3ed0148a-a42c-441c-baf0-9c6e11dff8ad",
   "metadata": {},
   "source": [
    "Посчитаем статистическую значимость различий в среднем количестве заказов на посетителя между группами по \"очищенным\" данным - с удалением аномальных пользователей."
   ]
  },
  {
   "cell_type": "markdown",
   "id": "7c0b868b-5774-491c-aa11-7cbf999dd235",
   "metadata": {},
   "source": [
    "Сформулируем гипотезы:\n",
    "\n",
    "- **Нулевая**: *Статистически значимых различий в среднем количестве заказов между группами по очищенным от выбросов данных нет*.\n",
    "- **Альтернативная**: *Статистически значимые различия в среднем количестве заказов между группами по очищенным от выбросов данных есть*."
   ]
  },
  {
   "cell_type": "markdown",
   "id": "3d85c3a5-86d0-4edd-9b93-68f93a7ba8cb",
   "metadata": {},
   "source": [
    "Установим уровень статистической значимости:\n",
    "$$\\alpha = 0,05.$$"
   ]
  },
  {
   "cell_type": "markdown",
   "id": "39e2c00b-05e1-4233-8f8b-e63e78c26569",
   "metadata": {},
   "source": [
    "Поскольку в исходных данных имеются выбросы и распределение для них не имеет вид нормального, будем использовать критерий, основанный на структурированном или непараметрическом подходе, а именно **\"U-критерий Манна-Уитни\"**."
   ]
  },
  {
   "cell_type": "code",
   "execution_count": 32,
   "id": "5ae3ec57-a2bd-4818-a29b-41850fc78090",
   "metadata": {},
   "outputs": [
    {
     "name": "stdout",
     "output_type": "stream",
     "text": [
      "P-value: 0.013\n",
      "Относительный выигрыш/проигрыш группы B: 0.173\n"
     ]
    }
   ],
   "source": [
    "users_with_many_orders = pd.concat(\n",
    "    [\n",
    "        orders_by_users_a[orders_by_users_a['orders'] > orders_border]['visitor_id'],\n",
    "        orders_by_users_b[orders_by_users_b['orders'] > orders_border]['visitor_id']\n",
    "    ],\n",
    "    axis=0,\n",
    ")\n",
    "\n",
    "users_with_expensive_orders = orders[orders['revenue'] > revenue_border]['visitor_id']\n",
    "abnormal_users = (\n",
    "    pd.concat([users_with_many_orders, users_with_expensive_orders], axis=0)\n",
    "    .drop_duplicates()\n",
    "    .sort_values()\n",
    ")\n",
    "\n",
    "# количество заказов для пользователей группы A\n",
    "sample_a_filtered = pd.concat(\n",
    "    [\n",
    "        orders_by_users_a[\n",
    "            np.logical_not(orders_by_users_a['visitor_id'].isin(abnormal_users))\n",
    "        ]['orders'],\n",
    "        pd.Series(\n",
    "            0,\n",
    "            index=np.arange(\n",
    "                data['visitors_per_date_a'].sum() - len(orders_by_users_a['orders'])\n",
    "            ),\n",
    "            name='orders',\n",
    "        ),\n",
    "    ],\n",
    "    axis=0,\n",
    ")\n",
    "\n",
    "# количество заказов для пользователей группы B\n",
    "sample_b_filtered = pd.concat(\n",
    "    [\n",
    "        orders_by_users_b[\n",
    "            np.logical_not(orders_by_users_b['visitor_id'].isin(abnormal_users))\n",
    "        ]['orders'],\n",
    "        pd.Series(\n",
    "            0,\n",
    "            index=np.arange(\n",
    "                data['visitors_per_date_b'].sum() - len(orders_by_users_b['orders'])\n",
    "            ),\n",
    "            name='orders',\n",
    "        ),\n",
    "    ],\n",
    "    axis=0,\n",
    ")\n",
    "\n",
    "\n",
    "print('P-value: {0:.3f}'.format(stats.mannwhitneyu(sample_a_filtered, sample_b_filtered)[1]))\n",
    "print('Относительный выигрыш/проигрыш группы B: {0:.3f}'.format(sample_b_filtered.mean()/sample_a_filtered.mean()-1))"
   ]
  },
  {
   "cell_type": "markdown",
   "id": "d32be21a-6c0a-4afb-8e83-4083d7fc8dc6",
   "metadata": {},
   "source": [
    "Заметим, что рассчитанный **p-value** оказался ниже заданного значения (0,05). Значит нулевую гипотезу о том, что статистически значимых различий в среднем числе заказов между группами нет, отвергаем. Выигрыш группы **B** составил 17,4%."
   ]
  },
  {
   "cell_type": "markdown",
   "id": "c0746547-ac8b-434e-a22a-62461e250aeb",
   "metadata": {},
   "source": [
    "##### 4.4.4 Статистическая значимость различий в среднем чеке заказа между группами по \"очищенным\" данным"
   ]
  },
  {
   "cell_type": "markdown",
   "id": "a5f9488a-7359-401b-80ab-788938fefba5",
   "metadata": {},
   "source": [
    "Посчитаем статистическую значимость различий в среднем чеке между группами по \"очищенным\" данным - с удалением аномальных пользователей."
   ]
  },
  {
   "cell_type": "markdown",
   "id": "ba7163f4-ea97-430b-99af-c7eac91e03a7",
   "metadata": {},
   "source": [
    "Сформулируем гипотезы:\n",
    "\n",
    "- **Нулевая**: *Статистически значимых различий в среднем чеке между группами по очищенным от выбросов данных нет*.\n",
    "- **Альтернативная**: *Статистически значимые различия в среднем чеке между группами по очищенным от выбросов данных есть*."
   ]
  },
  {
   "cell_type": "markdown",
   "id": "5ea7578c-8b5c-4880-a0b3-4cc9136bf9b8",
   "metadata": {},
   "source": [
    "Установим уровень статистической значимости:\n",
    "$$\\alpha = 0,05.$$"
   ]
  },
  {
   "cell_type": "markdown",
   "id": "2f811154-1e92-4d07-af81-0b15e10d2f5f",
   "metadata": {},
   "source": [
    "Поскольку в исходных данных имеются выбросы и распределение для них не имеет вид нормального, будем использовать критерий, основанный на структурированном или непараметрическом подходе, а именно **\"U-критерий Манна-Уитни\"**."
   ]
  },
  {
   "cell_type": "code",
   "execution_count": 33,
   "id": "b39c4351-933b-4b97-887d-6238a19490db",
   "metadata": {
    "tags": []
   },
   "outputs": [
    {
     "name": "stdout",
     "output_type": "stream",
     "text": [
      "P-value: 0.738\n",
      "Относительный выигрыш/проигрыш группы B: -0.020\n"
     ]
    }
   ],
   "source": [
    "print(\n",
    "    'P-value: {0:.3f}'.format(\n",
    "        stats.mannwhitneyu(\n",
    "            orders[\n",
    "                np.logical_and(\n",
    "                    orders['group'] == 'A',\n",
    "                    np.logical_not(orders['visitor_id'].isin(abnormal_users)),\n",
    "                )\n",
    "            ]['revenue'],\n",
    "            orders[\n",
    "                np.logical_and(\n",
    "                    orders['group'] == 'B',\n",
    "                    np.logical_not(orders['visitor_id'].isin(abnormal_users)),\n",
    "                )\n",
    "            ]['revenue'],\n",
    "        )[1]\n",
    "    )\n",
    ")\n",
    "\n",
    "print(\n",
    "    \"Относительный выигрыш/проигрыш группы B: {0:.3f}\".format(\n",
    "        orders[\n",
    "            np.logical_and(\n",
    "                orders['group'] == 'B',\n",
    "                np.logical_not(orders['visitor_id'].isin(abnormal_users)),\n",
    "            )\n",
    "        ]['revenue'].mean()\n",
    "        / orders[\n",
    "            np.logical_and(\n",
    "                orders['group'] == 'A',\n",
    "                np.logical_not(orders['visitor_id'].isin(abnormal_users)),\n",
    "            )\n",
    "        ]['revenue'].mean()\n",
    "        - 1\n",
    "    )\n",
    ")"
   ]
  },
  {
   "cell_type": "markdown",
   "id": "a466357f-94e3-452f-8fbf-c27196a71b9d",
   "metadata": {},
   "source": [
    "Рассчитанное p-value (0,72) больше заданной границы (0,05), значит нулевую гипотезу о том, что статистически значимых различий в среднем чеке между группами нет, не отвергаем. Относительный проигрыш группы **B** равен 3,4%."
   ]
  },
  {
   "cell_type": "markdown",
   "id": "2721891f-3767-4d47-bf90-0b5f285e0cd9",
   "metadata": {},
   "source": [
    "По проведенному анализу можно сделать следующие **выводы**:\n",
    "\n",
    "- Нет статистически значимого различия по среднему количеству заказов между группами ни по «сырым», ни по данным после фильтрации аномалий. При этом выигрыш группы **B** в среднем составляет 16,5%.\n",
    "\n",
    "- Нет статистически значимого различия по среднему чеку между группами ни по «сырым», ни по данным после фильтрации аномалий. Однако фильтрация оказала сильное влияние на данные по сравнению двух групп сильно: вместо выигрыша в 28,7% группа **B** по итогу проигрывает группе **A** на 3,4%.\n",
    "\n",
    "- График различия среднего чека между группами сообщает, что результаты группы **B** лучше группы **A**. В некоторых участках на графике наблюдаются выбросы, однако это может быть обусловлено крупными заказами в эти даты.\n",
    "\n",
    "- График различия среднего количества заказов между группами сообщает, что с течением времени проведения теста результаты группы **B** стали лучше группы **A**. Однако показатель относительного различия среднего количества заказов для двух групп еще полностью не установился, наблюдается лишь тенденция к стабилизации около уровня 0,15."
   ]
  },
  {
   "cell_type": "markdown",
   "id": "97bacf00-1feb-425c-af61-9ecccbf6f183",
   "metadata": {},
   "source": [
    "### 5. Общий вывод\n",
    "\n",
    "---"
   ]
  },
  {
   "cell_type": "markdown",
   "id": "d56f4ec9-d5bb-496f-9058-ba78bdb93031",
   "metadata": {},
   "source": [
    "В данной работе были проанализированы данные о заказах, посетителях и списке гипотез, которые необходимо было приоритизировать при помощи фреймворков `ICE` и `RICE`. После приоритизации гипотез были выбраны самые перспективные из них для проведения теста и в перспективе увеличения выручки интернет-магазина. На этапе предобработки данных были преобразованы названия столбцов, проверено наличие пропусков в данных, изменены типы данных там, где это было необходимо, проверено наличие явных и неявных дубликатов. Были проанализированы результаты A/B-теста, из которых было выявлено следующее:\n",
    "\n",
    "- Нет статистически значимого различия по среднему количеству заказов между группами ни по «сырым», ни по данным после фильтрации аномалий. При этом выигрыш группы B в среднем составляет 16,5%.\n",
    "\n",
    "- Нет статистически значимого различия по среднему чеку между группами ни по «сырым», ни по данным после фильтрации аномалий. Однако фильтрация оказала сильное влияние на данные по сравнению двух групп сильно: вместо выигрыша в 28,7% группа B по итогу проигрывает группе A на 3,4%.\n",
    "\n",
    "- График различия среднего чека между группами сообщает, что результаты группы B лучше группы A. В некоторых участках на графике наблюдаются выбросы, однако это может быть обусловлено крупными заказами в эти даты.\n",
    "\n",
    "- График различия среднего количества заказов между группами сообщает, что с течением времени проведения теста результаты группы B стали лучше группы A. Однако показатель относительного различия среднего количества заказов для двух групп еще полностью не установился, наблюдается лишь тенденция к стабилизации около уровня 0,15.\n",
    "\n",
    "Таким образом, на основании результатов, полученных после анализа A/B-теста, можно сделать вывод, что по совокупности показателей группа B выигрывает в данном тесте. Значения среднего чека по двум группам приблизительно равны, однако по среднему количеству заказов явно лидирует группа B. Поэтому рекомендуется остановить A/B-тест и засчитать победу группы B."
   ]
  }
 ],
 "metadata": {
  "ExecuteTimeLog": [
   {
    "duration": 1489,
    "start_time": "2023-06-17T04:54:44.645Z"
   },
   {
    "duration": 936,
    "start_time": "2023-06-17T04:54:46.139Z"
   },
   {
    "duration": 25,
    "start_time": "2023-06-17T04:54:47.078Z"
   },
   {
    "duration": 77,
    "start_time": "2023-06-17T04:54:47.106Z"
   },
   {
    "duration": 4,
    "start_time": "2023-06-17T04:54:47.185Z"
   },
   {
    "duration": 40,
    "start_time": "2023-06-17T04:54:47.190Z"
   },
   {
    "duration": 38,
    "start_time": "2023-06-17T04:54:47.232Z"
   },
   {
    "duration": 56,
    "start_time": "2023-06-17T04:54:47.272Z"
   },
   {
    "duration": 25,
    "start_time": "2023-06-17T04:54:47.333Z"
   },
   {
    "duration": 22,
    "start_time": "2023-06-17T04:54:47.364Z"
   },
   {
    "duration": 29,
    "start_time": "2023-06-17T04:54:47.390Z"
   },
   {
    "duration": 83,
    "start_time": "2023-06-17T04:54:47.421Z"
   },
   {
    "duration": 67,
    "start_time": "2023-06-17T04:54:47.505Z"
   },
   {
    "duration": 38,
    "start_time": "2023-06-17T04:54:47.573Z"
   },
   {
    "duration": 60,
    "start_time": "2023-06-17T04:54:47.618Z"
   },
   {
    "duration": 378,
    "start_time": "2023-06-17T04:54:47.681Z"
   },
   {
    "duration": 438,
    "start_time": "2023-06-17T04:54:48.061Z"
   },
   {
    "duration": 291,
    "start_time": "2023-06-17T04:54:48.501Z"
   },
   {
    "duration": 444,
    "start_time": "2023-06-17T04:54:48.795Z"
   },
   {
    "duration": 354,
    "start_time": "2023-06-17T04:54:49.248Z"
   },
   {
    "duration": 423,
    "start_time": "2023-06-17T04:54:49.608Z"
   },
   {
    "duration": 257,
    "start_time": "2023-06-17T04:54:50.038Z"
   },
   {
    "duration": 10,
    "start_time": "2023-06-17T04:54:50.300Z"
   },
   {
    "duration": 388,
    "start_time": "2023-06-17T04:54:50.317Z"
   },
   {
    "duration": 21,
    "start_time": "2023-06-17T04:54:50.707Z"
   },
   {
    "duration": 535,
    "start_time": "2023-06-17T04:54:50.735Z"
   },
   {
    "duration": 19,
    "start_time": "2023-06-17T04:54:51.276Z"
   },
   {
    "duration": 80,
    "start_time": "2023-06-17T04:54:51.299Z"
   },
   {
    "duration": 35,
    "start_time": "2023-06-17T04:54:51.381Z"
   },
   {
    "duration": 1011,
    "start_time": "2023-06-17T16:59:26.718Z"
   },
   {
    "duration": 504,
    "start_time": "2023-06-17T16:59:27.730Z"
   },
   {
    "duration": 23,
    "start_time": "2023-06-17T16:59:28.236Z"
   },
   {
    "duration": 24,
    "start_time": "2023-06-17T16:59:28.260Z"
   },
   {
    "duration": 3,
    "start_time": "2023-06-17T16:59:28.286Z"
   },
   {
    "duration": 48,
    "start_time": "2023-06-17T16:59:28.290Z"
   },
   {
    "duration": 18,
    "start_time": "2023-06-17T16:59:28.340Z"
   },
   {
    "duration": 33,
    "start_time": "2023-06-17T16:59:28.359Z"
   },
   {
    "duration": 15,
    "start_time": "2023-06-17T16:59:28.393Z"
   },
   {
    "duration": 33,
    "start_time": "2023-06-17T16:59:28.409Z"
   },
   {
    "duration": 7,
    "start_time": "2023-06-17T16:59:28.444Z"
   },
   {
    "duration": 9,
    "start_time": "2023-06-17T16:59:28.453Z"
   },
   {
    "duration": 16,
    "start_time": "2023-06-17T16:59:28.463Z"
   },
   {
    "duration": 8,
    "start_time": "2023-06-17T16:59:28.481Z"
   },
   {
    "duration": 27,
    "start_time": "2023-06-17T16:59:28.490Z"
   },
   {
    "duration": 20,
    "start_time": "2023-06-17T16:59:28.523Z"
   },
   {
    "duration": 13,
    "start_time": "2023-06-17T16:59:28.545Z"
   },
   {
    "duration": 267,
    "start_time": "2023-06-17T16:59:28.559Z"
   },
   {
    "duration": 255,
    "start_time": "2023-06-17T16:59:28.827Z"
   },
   {
    "duration": 190,
    "start_time": "2023-06-17T16:59:29.083Z"
   },
   {
    "duration": 290,
    "start_time": "2023-06-17T16:59:29.275Z"
   },
   {
    "duration": 201,
    "start_time": "2023-06-17T16:59:29.566Z"
   },
   {
    "duration": 272,
    "start_time": "2023-06-17T16:59:29.768Z"
   },
   {
    "duration": 146,
    "start_time": "2023-06-17T16:59:30.042Z"
   },
   {
    "duration": 4,
    "start_time": "2023-06-17T16:59:30.189Z"
   },
   {
    "duration": 52,
    "start_time": "2023-06-17T16:59:30.194Z"
   },
   {
    "duration": 179,
    "start_time": "2023-06-17T16:59:30.248Z"
   },
   {
    "duration": 135,
    "start_time": "2023-06-17T16:59:30.428Z"
   },
   {
    "duration": 4,
    "start_time": "2023-06-17T16:59:30.564Z"
   },
   {
    "duration": 59,
    "start_time": "2023-06-17T16:59:30.570Z"
   },
   {
    "duration": 339,
    "start_time": "2023-06-17T16:59:30.630Z"
   },
   {
    "duration": 8,
    "start_time": "2023-06-17T16:59:30.970Z"
   },
   {
    "duration": 84,
    "start_time": "2023-06-17T16:59:30.980Z"
   },
   {
    "duration": 89,
    "start_time": "2023-06-17T16:59:31.066Z"
   },
   {
    "duration": 66,
    "start_time": "2023-06-17T18:16:15.252Z"
   },
   {
    "duration": 1278,
    "start_time": "2023-06-17T18:16:38.896Z"
   },
   {
    "duration": 702,
    "start_time": "2023-06-17T18:16:40.177Z"
   },
   {
    "duration": 23,
    "start_time": "2023-06-17T18:16:40.881Z"
   },
   {
    "duration": 27,
    "start_time": "2023-06-17T18:16:40.906Z"
   },
   {
    "duration": 4,
    "start_time": "2023-06-17T18:16:40.935Z"
   },
   {
    "duration": 27,
    "start_time": "2023-06-17T18:16:40.940Z"
   },
   {
    "duration": 30,
    "start_time": "2023-06-17T18:16:40.969Z"
   },
   {
    "duration": 44,
    "start_time": "2023-06-17T18:16:41.001Z"
   },
   {
    "duration": 56,
    "start_time": "2023-06-17T18:16:41.047Z"
   },
   {
    "duration": 5,
    "start_time": "2023-06-17T18:16:41.106Z"
   },
   {
    "duration": 13,
    "start_time": "2023-06-17T18:16:41.113Z"
   },
   {
    "duration": 15,
    "start_time": "2023-06-17T18:16:41.128Z"
   },
   {
    "duration": 34,
    "start_time": "2023-06-17T18:16:41.144Z"
   },
   {
    "duration": 17,
    "start_time": "2023-06-17T18:16:41.181Z"
   },
   {
    "duration": 13,
    "start_time": "2023-06-17T18:16:41.199Z"
   },
   {
    "duration": 16,
    "start_time": "2023-06-17T18:16:41.213Z"
   },
   {
    "duration": 41,
    "start_time": "2023-06-17T18:16:41.231Z"
   },
   {
    "duration": 312,
    "start_time": "2023-06-17T18:16:41.273Z"
   },
   {
    "duration": 389,
    "start_time": "2023-06-17T18:16:41.587Z"
   },
   {
    "duration": 235,
    "start_time": "2023-06-17T18:16:41.979Z"
   },
   {
    "duration": 422,
    "start_time": "2023-06-17T18:16:42.216Z"
   },
   {
    "duration": 257,
    "start_time": "2023-06-17T18:16:42.639Z"
   },
   {
    "duration": 303,
    "start_time": "2023-06-17T18:16:42.898Z"
   },
   {
    "duration": 188,
    "start_time": "2023-06-17T18:16:43.203Z"
   },
   {
    "duration": 5,
    "start_time": "2023-06-17T18:16:43.393Z"
   },
   {
    "duration": 6,
    "start_time": "2023-06-17T18:16:43.400Z"
   },
   {
    "duration": 193,
    "start_time": "2023-06-17T18:16:43.407Z"
   },
   {
    "duration": 184,
    "start_time": "2023-06-17T18:16:43.604Z"
   },
   {
    "duration": 4,
    "start_time": "2023-06-17T18:16:43.790Z"
   },
   {
    "duration": 6,
    "start_time": "2023-06-17T18:16:43.796Z"
   },
   {
    "duration": 440,
    "start_time": "2023-06-17T18:16:43.804Z"
   },
   {
    "duration": 19,
    "start_time": "2023-06-17T18:16:44.247Z"
   },
   {
    "duration": 40,
    "start_time": "2023-06-17T18:16:44.271Z"
   },
   {
    "duration": 19,
    "start_time": "2023-06-17T18:16:44.312Z"
   }
  ],
  "kernelspec": {
   "display_name": "Python 3 (ipykernel)",
   "language": "python",
   "name": "python3"
  },
  "language_info": {
   "codemirror_mode": {
    "name": "ipython",
    "version": 3
   },
   "file_extension": ".py",
   "mimetype": "text/x-python",
   "name": "python",
   "nbconvert_exporter": "python",
   "pygments_lexer": "ipython3",
   "version": "3.8.16"
  },
  "toc": {
   "base_numbering": 1,
   "nav_menu": {},
   "number_sections": true,
   "sideBar": true,
   "skip_h1_title": true,
   "title_cell": "Table of Contents",
   "title_sidebar": "Contents",
   "toc_cell": false,
   "toc_position": {},
   "toc_section_display": true,
   "toc_window_display": true
  }
 },
 "nbformat": 4,
 "nbformat_minor": 5
}
